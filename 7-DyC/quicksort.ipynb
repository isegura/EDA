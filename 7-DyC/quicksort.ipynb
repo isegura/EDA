{
  "nbformat": 4,
  "nbformat_minor": 0,
  "metadata": {
    "colab": {
      "name": "quicksort.ipynb",
      "provenance": [],
      "collapsed_sections": [],
      "authorship_tag": "ABX9TyOHHXN0QzhsTklNNhVhKTC0",
      "include_colab_link": true
    },
    "kernelspec": {
      "name": "python3",
      "display_name": "Python 3"
    },
    "language_info": {
      "name": "python"
    }
  },
  "cells": [
    {
      "cell_type": "markdown",
      "metadata": {
        "id": "view-in-github",
        "colab_type": "text"
      },
      "source": [
        "<a href=\"https://colab.research.google.com/github/isegura/EDA/blob/master/quicksort.ipynb\" target=\"_parent\"><img src=\"https://colab.research.google.com/assets/colab-badge.svg\" alt=\"Open In Colab\"/></a>"
      ]
    },
    {
      "cell_type": "markdown",
      "source": [
        "# Divide y Vencerás. Quicksort\n",
        "En este notebook, codificaremos distintas implementaciones del algoritmo quicksort.\n",
        "\n",
        "El algoritmo quicksort recibe una lista y ordena dicha lista de menor a mayor. \n",
        "\n",
        "Quicksort se basa en la elección de un elemento pivote, y la creación de dos particiones, los elementos que son menores que el pivote, y los elementos mayores al pivote. Después de crear las dos particiones, el pivote estará colocado en la posición que le corresponde en la lista ordenada.\n",
        "\n",
        "## Quicksort (listas auxiliares y primer elemento como pivote)\n",
        "\n"
      ],
      "metadata": {
        "id": "MSgTdU598eOC"
      }
    },
    {
      "cell_type": "code",
      "source": [
        "def partitions(a: list) -> (list, int, list):\n",
        "    \"\"\" recibe una lista y selecciona un elemento como pivote el primer elemento \n",
        "    de la lista. La función devuelve los siguientes datos:\n",
        "    - una lista con los elementos menores que el pivote\n",
        "    - el pivote (primer elemento)\n",
        "    - una lista formada con los elementos de la lista mayores que el pivote\"\"\"\n",
        "    \n",
        "    # seleccionamos el pivote\n",
        "    p = a[0]\n",
        "    smaller = []\n",
        "    bigger = []\n",
        "    for i in range(1, len(a)):\n",
        "        if a[i] <= p:\n",
        "            smaller.append(a[i])\n",
        "        else:\n",
        "            bigger.append(a[i])\n",
        "    \n",
        "    return (smaller, p, bigger)\n",
        "\n",
        "def quicksort(a: list) -> list:\n",
        "    if a is None or len(a) <= 1:\n",
        "        return a\n",
        "\n",
        "    list_smaller, pivote, list_bigger = partitions(a)\n",
        "    return quicksort(list_smaller) + [pivote] + quicksort(list_bigger)"
      ],
      "metadata": {
        "id": "y1cNTIQTnIs6"
      },
      "execution_count": null,
      "outputs": []
    },
    {
      "cell_type": "markdown",
      "source": [
        "El siguiente código te ayudará a probar la función. Puedes ejecutarlo varias veces para probar con tamaños distintos y valores distintos en la lista de entrada:"
      ],
      "metadata": {
        "id": "P2HAk4_tXFL9"
      }
    },
    {
      "cell_type": "code",
      "source": [
        "import random\n",
        "import copy\n",
        "a = []\n",
        "n = random.randint(1, 10)\n",
        "for _ in range(n):\n",
        "    x = random.randint(-5,10)\n",
        "    a.append(x)\n",
        "# creamos una copia por valor de a (no se almacena en la misma dirección)\n",
        "\n",
        "print(\"before: \", a, end = ' ')\n",
        "\n",
        "print(\", after sorting: \", quicksort(a))\n",
        "# it should be True. If it is False, this means that there is a bug in our code\n",
        "assert quicksort(a) == sorted(a)\n"
      ],
      "metadata": {
        "colab": {
          "base_uri": "https://localhost:8080/"
        },
        "id": "upOQsqxrozI0",
        "outputId": "e5e4aa4d-dfb5-4a97-d8be-67e2633dbfab"
      },
      "execution_count": null,
      "outputs": [
        {
          "output_type": "stream",
          "name": "stdout",
          "text": [
            "before:  [0, 5, 8, 0, -2, 9, -4, -5, 7] , after sorting:  [-5, -4, -2, 0, 0, 5, 7, 8, 9]\n"
          ]
        }
      ]
    },
    {
      "cell_type": "markdown",
      "source": [
        "## Quicksoft (listas auxiliares y último elemento como pivote)\n",
        "\n",
        "Implementa el algoritmo quicksort basado en la elección el **último elemento** de la lista como pivote. \n",
        "\n",
        "La siguiente implementación es muy parecida a la anterior, simplemente el pivote ahora es el último elemento de la lista. "
      ],
      "metadata": {
        "id": "SZsT1B85p0_5"
      }
    },
    {
      "cell_type": "code",
      "source": [
        "def partitions(a: list) -> (list, int, list):\n",
        "    \"\"\" recibe una lista y selecciona un elemento como pivote\n",
        "    (en este caso, se elige el último elemento como pivote. La función devuelve los \n",
        "    siguientes datos:\n",
        "    - una lista con los elementos menores que el pivote\n",
        "    - el pivote (último elemento)\n",
        "    - una lista formada con los elementos de la lista mayores que el pivote\"\"\"\n",
        "    \n",
        "    # seleccionamos el pivote\n",
        "    p = a[-1]\n",
        "    smaller = []\n",
        "    bigger = []\n",
        "    for i in range(len(a)-1):\n",
        "        if a[i] <= p:\n",
        "            smaller.append(a[i])\n",
        "        else:\n",
        "            bigger.append(a[i])\n",
        "    \n",
        "    return (smaller, p, bigger)\n",
        "\n",
        "def quicksort(a: list) -> list:\n",
        "    if a is None or len(a) <= 1:\n",
        "        return a\n",
        "\n",
        "    list_smaller, pivote, list_bigger = partitions(a)\n",
        "    return quicksort(list_smaller) + [pivote] + quicksort(list_bigger)"
      ],
      "metadata": {
        "id": "vjJ7y0YxqKJy"
      },
      "execution_count": null,
      "outputs": []
    },
    {
      "cell_type": "markdown",
      "source": [
        "El siguiente código crea un array de forma aleatoria. Ejecutálo varias veces para probarlo con distintas listas de distinto tamaño:"
      ],
      "metadata": {
        "id": "bCuuSUE7qbMw"
      }
    },
    {
      "cell_type": "code",
      "source": [
        "a = []\n",
        "n = random.randint(1, 10)\n",
        "for _ in range(n):\n",
        "    x = random.randint(-5,10)\n",
        "    a.append(x)\n",
        "\n",
        "print(\"before: \", a, end = ' ')\n",
        "\n",
        "print(\", after sorting: \", quicksort(a))\n",
        "# it should be True. If it is False, this means that there is a bug in our code\n",
        "assert quicksort(a) == sorted(a)\n"
      ],
      "metadata": {
        "colab": {
          "base_uri": "https://localhost:8080/"
        },
        "id": "TUsbv03oqWyz",
        "outputId": "03c85271-eece-4146-955e-e09797f30970"
      },
      "execution_count": null,
      "outputs": [
        {
          "output_type": "stream",
          "name": "stdout",
          "text": [
            "before:  [4, 3, 4, 0] , after:  [0, 3, 4, 4]\n"
          ]
        }
      ]
    },
    {
      "cell_type": "markdown",
      "source": [
        "## Quicksoft (listas auxiliares y pivote aleatorio)\n",
        "Sería posible implementar otras versiones donde el pivote se eliga al azar, y una vez elegido se mueva a la primera o última posición, para proceder como en las versiones anteriores:\n"
      ],
      "metadata": {
        "id": "iYMoLFz-Xcmt"
      }
    },
    {
      "cell_type": "code",
      "source": [
        "import random\n",
        "\n",
        "def partitions(a: list) -> (list, int, list):\n",
        "    \"\"\" recibe una lista y selecciona de forma aleatoria el pivote.\n",
        "    La función devuelve los siguientes datos:\n",
        "    - una lista con los elementos menores que el pivote\n",
        "    - el pivote (último elemento)\n",
        "    - una lista formada con los elementos de la lista mayores que el pivote\"\"\"\n",
        "    \n",
        "    # seleccionamos el pivote\n",
        "    index_p = random.randint(0,len(a)-1)\n",
        "    p = a[index_p]\n",
        "    # intercambiamos el pivote con el último elemento\n",
        "    a[index_p], a[-1] = a[-1], a[index_p]\n",
        "    # ahora el pivote es el último elemento\n",
        "    smaller = []\n",
        "    bigger = []\n",
        "    for i in range(len(a)-1):\n",
        "        if a[i] <= p:\n",
        "            smaller.append(a[i])\n",
        "        else:\n",
        "            bigger.append(a[i])\n",
        "    \n",
        "    return (smaller, p, bigger)\n",
        "\n",
        "def quicksort(a: list) -> list:\n",
        "    if a is None or len(a) <= 1:\n",
        "        return a\n",
        "\n",
        "    list_smaller, pivote, list_bigger = partitions(a)\n",
        "    return quicksort(list_smaller) + [pivote] + quicksort(list_bigger)"
      ],
      "metadata": {
        "id": "7g7KKVCRXlgk"
      },
      "execution_count": null,
      "outputs": []
    },
    {
      "cell_type": "markdown",
      "source": [
        "Probamos esta implementación basada en listas auxiliares y pivote aleatorio:"
      ],
      "metadata": {
        "id": "9XPFjjVUYi1c"
      }
    },
    {
      "cell_type": "code",
      "source": [
        "a = []\n",
        "n = random.randint(1, 10)\n",
        "for _ in range(n):\n",
        "    x = random.randint(-5,10)\n",
        "    a.append(x)\n",
        "\n",
        "print(\"before: \", a, end = ' ')\n",
        "\n",
        "print(\", after sorting: \", quicksort(a))\n",
        "# it should be True. If it is False, this means that there is a bug in our code\n",
        "assert quicksort(a) == sorted(a)"
      ],
      "metadata": {
        "colab": {
          "base_uri": "https://localhost:8080/"
        },
        "id": "-i7Ik6ORYiG3",
        "outputId": "9054e1ed-3d42-42da-d514-d0c08eb188ef"
      },
      "execution_count": null,
      "outputs": [
        {
          "output_type": "stream",
          "name": "stdout",
          "text": [
            "before:  [2, -4, -4, 2, -3] , after sorting:  [-4, -4, -3, 2, 2]\n"
          ]
        }
      ]
    },
    {
      "cell_type": "markdown",
      "source": [
        "## Quicksort con menor complejidad espacial (sin usar listas auxiliares)\n",
        "\n",
        "Las dos implementaciones anteriores utilizan listas auxiliares para almacenar las particiones (los elementos menores y mayores del pivote). Es posible proponer implementaciones con una menor complejidad espacial (es decir, sin la necesidad de usar listas auxiliares para almacenar las particiones). En su lugar, usaremos índices que indique el inicio y final de la partición a ordenar. \n",
        "\n",
        "A continuación, veremos una implementación (sin listas auxiliares) que selecciona el último elemento como pivote:"
      ],
      "metadata": {
        "id": "fY0wJ18nY7_B"
      }
    },
    {
      "cell_type": "markdown",
      "source": [
        "\n",
        "\n",
        "### Quicksort (último elemento pivote)"
      ],
      "metadata": {
        "id": "kkv9wg7NqmGj"
      }
    },
    {
      "cell_type": "code",
      "execution_count": null,
      "metadata": {
        "id": "UzjRr8mF8c6_"
      },
      "outputs": [],
      "source": [
        "def quicksort(a: list) -> None:\n",
        "    \"\"\"la función ordena los elementos de la lista a de menor a mayor.\n",
        "    No devuelve una nueva lista, simplemente ordena a.\"\"\"\n",
        "    if a is None or len(a)<=1:\n",
        "        # a is already sorted!!!        \n",
        "        return\n",
        "\n",
        "    _quicksort(a, 0, len(a)-1)\n",
        "\n",
        "def _quicksort(a: list, start: int, end: int) -> None:\n",
        "    \"\"\"La función ordena la sublista de a comprendida entre los indices start y end, ambos inclusives\"\"\"\n",
        "   \n",
        "    # primer paso, elegir el último elemento como pivote\n",
        "    piv = a[end]\n",
        "    # creamos dos índices\n",
        "    # el índice i va a recorrer la lista (partición) desde start, y su objetivo\n",
        "    # es avanzar mientras que los elementos sean menores que el pivote\n",
        "    # el índice j va a recorrer la partición desde end hacia la izquierda, y su \n",
        "    # objetivo es avanzar (hacia start) mientras que los elementos sean mayores que \n",
        "    # el pivote\n",
        "    i, j = start, end - 1\n",
        "\n",
        "    while i <= j:\n",
        "        # paramos de avanzar i, cuando encontramos un elemento a[i]>=p \n",
        "        while a[i] < piv:\n",
        "            i += 1\n",
        "        # paramos de disminuir j, cuando encontramos un elemento a[j]<=p \n",
        "        while a[j] > piv:\n",
        "            j -= 1\n",
        "\n",
        "        if i < j:\n",
        "            # intercambiamos a[i], a[j]\n",
        "            a[i], a[j] = a[j], a[i]\n",
        "        if i <= j:    \n",
        "            # avanzamos índices\n",
        "            i += 1\n",
        "            j -= 1\n",
        "\n",
        "    # Cuando termina el bucle, los elementos más pequeños al pivote estarán situados\n",
        "    # en la izquierda de la partición, mientras los elementos mayores al pivote\n",
        "    # estarán situados a la derecha. Debemos colocar el pivote, en la posición i, que es la \n",
        "    # posición que separá ambas partes. El elemento en i será mayor que el pivote, y por tanto\n",
        "    # podemos moverlo a la parte derecha de la partición\n",
        "    a[end], a[i] = a[i], a[end]\n",
        "\n",
        "    # Aplicamos recursión sobre cada partición (si al menos tienen un elemento)\n",
        "    if i-1 > start: \n",
        "        _quicksort(a, start, i-1)\n",
        "    if i+1 < end:\n",
        "        _quicksort(a, i+1, end)\n",
        "\n"
      ]
    },
    {
      "cell_type": "markdown",
      "source": [
        "Ejecuta el siguiente código varias veces para comprobar que el algoritmo funciona correctamente para distintos tamaños y valores en la lista:"
      ],
      "metadata": {
        "id": "RE0A99YfbnN3"
      }
    },
    {
      "cell_type": "code",
      "source": [
        "import copy\n",
        "# a = [0, -7, -10, -7]\n",
        "# a = [-3, 4, -5, -2, -2]\n",
        "\n",
        "a = []\n",
        "n = random.randint(1, 10)\n",
        "for _ in range(n):\n",
        "    x = random.randint(-5,10)\n",
        "    a.append(x)\n",
        "\n",
        "# aux es una copia de a, pero no tienen la misma dirección de memoria\n",
        "aux = copy.deepcopy(a)\n",
        "\n",
        "print(\"before: \", a, end = \" \")\n",
        "quicksort(a)\n",
        "print(\", after: \", a)\n",
        "\n",
        "# Siempre deben ser iguales. Si no son iguales, significa que nuestra\n",
        "# implementación tiene algún error\n",
        "assert a == sorted(aux)\n"
      ],
      "metadata": {
        "id": "Kn-7Ow6PFF2r",
        "colab": {
          "base_uri": "https://localhost:8080/"
        },
        "outputId": "0301c466-124a-49db-9f25-fa5b40169423"
      },
      "execution_count": null,
      "outputs": [
        {
          "output_type": "stream",
          "name": "stdout",
          "text": [
            "before:  [-5, -3, 5, 9, -3, -3, 2] , after:  [-5, -3, -3, -3, 2, 5, 9]\n"
          ]
        }
      ]
    },
    {
      "cell_type": "markdown",
      "source": [
        "### Quicksort (elemento central pivote)"
      ],
      "metadata": {
        "id": "-AIqOhAjxEe2"
      }
    },
    {
      "cell_type": "code",
      "source": [
        "def quicksort(a: list) -> None:\n",
        "    \"\"\"la función ordena los elementos de la lista a de menor a mayor.\n",
        "    No devuelve una nueva lista, simplemente ordena a.\"\"\"\n",
        "    if a is None or len(a)<=1:\n",
        "        # a is already sorted!!!        \n",
        "        return\n",
        "\n",
        "    _quicksort(a, 0, len(a)-1)\n",
        "\n",
        "def _quicksort(a: list, start: int, end: int) -> None:\n",
        "    \"\"\"La función ordena la sublista de a comprendida entre los indices start y end, ambos inclusives\"\"\"\n",
        "    # primer paso, elegir el elemento central como pivote\n",
        "    m = (start + end) // 2\n",
        "    piv = a[m]\n",
        "    # creamos dos índices\n",
        "    i, j = start, end\n",
        "\n",
        "    while i <= j:\n",
        "        while a[i] < piv:\n",
        "            i += 1\n",
        "        while a[j] > piv:\n",
        "            j -= 1\n",
        "\n",
        "        if i < j:\n",
        "            # intercambiamos a[i], a[j]\n",
        "            a[i], a[j] = a[j], a[i]\n",
        "        if i <= j:\n",
        "            # avanzamos índices\n",
        "            i = i + 1\n",
        "            j = j - 1\n",
        "    \n",
        "    # Aplicamos recursión sobre cada partición\n",
        "    if start < j:\n",
        "        _quicksort(a, start, j)\n",
        "    if end > i:\n",
        "        _quicksort(a, i, end)\n"
      ],
      "metadata": {
        "id": "ICCmLa0GxKTA"
      },
      "execution_count": null,
      "outputs": []
    },
    {
      "cell_type": "markdown",
      "source": [
        "Vamos a probar esta nueva implementación (recuerda ejecutar varias veces)"
      ],
      "metadata": {
        "id": "xyGFA5Ibc2jh"
      }
    },
    {
      "cell_type": "code",
      "source": [
        "# \n",
        "# a = [-3, 4, -5, -2, -2]\n",
        "# a = [0, -7, -10, -7]\n",
        "\n",
        "a = []\n",
        "n = random.randint(1, 10)\n",
        "for _ in range(n):\n",
        "    x = random.randint(-5,10)\n",
        "    a.append(x)\n",
        "\n",
        "# aux es una copia de a, pero no tienen la misma dirección de memoria\n",
        "aux = copy.deepcopy(a)\n",
        "print(\"before: \", a, end = \" \")\n",
        "quicksort(a)\n",
        "print(\", after: \", a)\n",
        "# Siempre debe ser True. En otro caso, tenemos algún fallo. \n",
        "assert a == sorted(aux)"
      ],
      "metadata": {
        "colab": {
          "base_uri": "https://localhost:8080/"
        },
        "id": "Erz4aOs7xiqP",
        "outputId": "559ce05d-b134-440c-a516-47f01dff6499"
      },
      "execution_count": null,
      "outputs": [
        {
          "output_type": "stream",
          "name": "stdout",
          "text": [
            "before:  [5, 7, -2, 7, 0, 1, 3, 6] , after:  [-2, 0, 1, 3, 5, 6, 7, 7]\n"
          ]
        }
      ]
    },
    {
      "cell_type": "markdown",
      "source": [
        "## Quicksort (random pivote)\n",
        "Esta implementación es muy similar a la anterior, pero la principal diferencia es que vamos a seleccionar el pivote de forma aleatoria"
      ],
      "metadata": {
        "id": "YEEIJhM_FOVG"
      }
    },
    {
      "cell_type": "code",
      "source": [
        "import random\n",
        "\n",
        "def quicksort(a: list) -> None:\n",
        "    if a is None or len(a)==0:\n",
        "        return\n",
        "    _quicksort(a, 0, len(a)-1)\n",
        "\n",
        "def _quicksort(a: list, start: int, end: int) -> None:\n",
        "    \"\"\"La función ordena la sublista de a comprendida entre los indices start y end, ambos inclusives\"\"\"\n",
        "    # elegimos un índice de start and end, de forma aleatoria\n",
        "    index_pivote = random.randint(start, end) # start and end, both included\n",
        "    piv = a[index_pivote]\n",
        "    # print('pivote seleccionado ', index_pivote, piv)\n",
        "\n",
        "    # movemos el pivote a la posición end del array \n",
        "    a[index_pivote], a[end] = a[end], a[index_pivote]\n",
        "    # ahora el pivote está al final de la partición\n",
        "\n",
        "    i, j = start, end - 1\n",
        "\n",
        "    while i <= j:\n",
        "        while a[i] < piv:\n",
        "            i += 1\n",
        "        while a[j] > piv:\n",
        "            j -= 1\n",
        "\n",
        "        if i < j:\n",
        "            # intercambiamos a[i], a[j]\n",
        "            a[i], a[j] = a[j], a[i]\n",
        "        if i <= j:\n",
        "            # avanzamos índices\n",
        "            i += 1\n",
        "            j -= 1\n",
        "\n",
        "    # finalmente, intercambiamos el pivote a la posición i,\n",
        "    # que es la que separa los elementos menores a la izquierda\n",
        "    # y los elementos mayores a la derecha\n",
        "    a[end], a[i] = a[i], a[end]\n",
        "\n",
        "    # Aplicamos recursión sobre las particiones (cuando no estén vacías)\n",
        "    if start < i-1:\n",
        "        _quicksort(a, start, i-1)\n",
        "    if i+1 < end:\n",
        "        _quicksort(a, i+1, end)\n",
        "\n",
        "\n"
      ],
      "metadata": {
        "id": "VTtbIAnKFWx9"
      },
      "execution_count": null,
      "outputs": []
    },
    {
      "cell_type": "markdown",
      "source": [
        "Ejecutamos varias veces para probar con distintos tamaños y valores:"
      ],
      "metadata": {
        "id": "YYfNYm_ydvBA"
      }
    },
    {
      "cell_type": "code",
      "source": [
        "a = []\n",
        "n = random.randint(1,7)\n",
        "for _ in range(n):\n",
        "    a.append( random.randint(-10,10))\n",
        "\n",
        "# aux es una copia de a, pero no tienen la misma dirección de memoria\n",
        "aux = copy.deepcopy(a)\n",
        "\n",
        "print(\"before: \", a, end = \" \")\n",
        "quicksort(a)\n",
        "print(\", after: \", a)\n",
        "\n",
        "assert a == sorted(aux)\n"
      ],
      "metadata": {
        "colab": {
          "base_uri": "https://localhost:8080/"
        },
        "id": "YyHLJ362GI_P",
        "outputId": "abea61a4-b2fd-43a4-a5ec-3b0a1aa72182"
      },
      "execution_count": null,
      "outputs": [
        {
          "output_type": "stream",
          "name": "stdout",
          "text": [
            "before:  [-9, -3, -6, -8] , after:  [-9, -8, -6, -3]\n"
          ]
        }
      ]
    },
    {
      "cell_type": "markdown",
      "source": [
        "Esta última implementación muestra otra posible forma de codificar quicksort con pivote aleatorio:"
      ],
      "metadata": {
        "id": "bo9qx3lNi1z1"
      }
    },
    {
      "cell_type": "code",
      "source": [
        "def quicksortRand(A):\n",
        "    _quicksortRand(A,0,len(A)-1)\n",
        "    \n",
        "def _quicksortRand(A, left, right):\n",
        "    \n",
        "    i,j=left,right\n",
        "    p = A[random.randint(left,right)] # pivot is random element\n",
        "    \n",
        "    while i <= j:\n",
        "        while A[i] < p: \n",
        "          i += 1\n",
        "        while A[j] > p: \n",
        "          j -= 1\n",
        "        if i < j: # swap \n",
        "            A[i], A[j] = A[j], A[i]\n",
        "        if i <= j:\n",
        "            i += 1\n",
        "            j -= 1\n",
        "\n",
        "    if left < j: # sort left list\n",
        "        _quicksortRand(A, left, j)\n",
        "    if i < right: # sort right list\n",
        "        _quicksortRand(A, i, right)"
      ],
      "metadata": {
        "id": "JXU4GJEEjUPa"
      },
      "execution_count": null,
      "outputs": []
    },
    {
      "cell_type": "code",
      "source": [
        "a = []\n",
        "n = random.randint(1,7)\n",
        "for _ in range(n):\n",
        "    a.append( random.randint(-10,10))\n",
        "\n",
        "# aux es una copia de a, pero no tienen la misma dirección de memoria\n",
        "aux = copy.deepcopy(a)\n",
        "\n",
        "print(\"before: \", a, end = \" \")\n",
        "quicksortRand(a)\n",
        "print(\", after: \", a)\n",
        "\n",
        "assert a == sorted(aux)\n"
      ],
      "metadata": {
        "colab": {
          "base_uri": "https://localhost:8080/"
        },
        "id": "x_oR-sYtjY4o",
        "outputId": "d7d3d4a4-ac52-4cf5-8c91-7c04a2fcd50b"
      },
      "execution_count": null,
      "outputs": [
        {
          "output_type": "stream",
          "name": "stdout",
          "text": [
            "before:  [-9, -10, -4] , after:  [-10, -9, -4]\n"
          ]
        }
      ]
    },
    {
      "cell_type": "markdown",
      "source": [
        "Y otra posible implementación más:"
      ],
      "metadata": {
        "id": "0xV7ph86jmhz"
      }
    },
    {
      "cell_type": "code",
      "source": [
        "# Python implementation QuickSort using  \n",
        "# Lomuto's partition Scheme. \n",
        "import random \n",
        "  \n",
        "''' \n",
        "The function which implements QuickSort. \n",
        "arr :- array to be sorted. \n",
        "start :- starting index of the array. \n",
        "stop :- ending index of the array. \n",
        "'''\n",
        "def quicksort(arr, start , stop): \n",
        "    if(start < stop): \n",
        "          \n",
        "        # pivotindex is the index where  \n",
        "        # the pivot lies in the array \n",
        "        pivotindex = partitionrand(arr, start, stop) \n",
        "          \n",
        "        # At this stage the array is partially sorted  \n",
        "        # around the pivot. Separately sorting the  \n",
        "        # left half of the array and the right half of the array. \n",
        "        quicksort(arr , start , pivotindex - 1) \n",
        "        quicksort(arr, pivotindex + 1, stop) \n",
        "  \n",
        "# This function generates random pivot, swaps the first \n",
        "# element with the pivot and calls the partition fucntion. \n",
        "def partitionrand(arr , start, stop): \n",
        "  \n",
        "    # Generating a random number between the  \n",
        "    # starting index of the array and the \n",
        "    # ending index of the array. \n",
        "    randpivot = random.randrange(start, stop) \n",
        "  \n",
        "    # Swapping the starting element of the array and the pivot \n",
        "    arr[start], arr[randpivot] = arr[randpivot], arr[start] \n",
        "    return partition(arr, start, stop) \n",
        "  \n",
        "''' \n",
        "This function takes the first element as pivot,  \n",
        "places the pivot element at the correct position  \n",
        "in the sorted array. All the elements are re-arranged  \n",
        "according to the pivot, the elements smaller than the \n",
        "pivot is places on the left and the elements \n",
        "greater than the pivot is placed to the right of pivot. \n",
        "'''\n",
        "def partition(arr,start,stop): \n",
        "    pivot = start # pivot \n",
        "    i = start + 1 # a variable to memorize where the  \n",
        "                  # partition in the array starts from. \n",
        "    for j in range(start + 1, stop + 1): \n",
        "          \n",
        "        # if the current element is smaller or equal to pivot, \n",
        "        # shift it to the left side of the partition. \n",
        "        if arr[j] <= arr[pivot]: \n",
        "            arr[i] , arr[j] = arr[j] , arr[i] \n",
        "            i = i + 1\n",
        "    arr[pivot] , arr[i - 1] = arr[i - 1] , arr[pivot] \n",
        "    pivot = i - 1\n",
        "    return (pivot) \n",
        "  \n",
        "# Driver Code \n",
        "if __name__ == \"__main__\": \n",
        "    array = [10, 7, 8, 9, 1, 5] \n",
        "    quicksort(array, 0, len(array) - 1) \n",
        "    print(array) "
      ],
      "metadata": {
        "colab": {
          "base_uri": "https://localhost:8080/"
        },
        "id": "rWma1_n1i7Ja",
        "outputId": "98080106-56de-4797-d780-8ca0c576e3a8"
      },
      "execution_count": null,
      "outputs": [
        {
          "output_type": "stream",
          "name": "stdout",
          "text": [
            "[1, 5, 7, 8, 9, 10]\n"
          ]
        }
      ]
    },
    {
      "cell_type": "code",
      "source": [
        "a = []\n",
        "n = random.randint(1,7)\n",
        "for _ in range(n):\n",
        "    a.append( random.randint(-10,10))\n",
        "\n",
        "# aux es una copia de a, pero no tienen la misma dirección de memoria\n",
        "aux = copy.deepcopy(a)\n",
        "\n",
        "print(\"before: \", a, end = \" \")\n",
        "quicksort(a, 0, len(a)-1)\n",
        "print(\", after: \", a)\n",
        "\n",
        "assert a == sorted(aux)\n"
      ],
      "metadata": {
        "colab": {
          "base_uri": "https://localhost:8080/"
        },
        "id": "skEQNojmjCqD",
        "outputId": "6413ceed-e211-46e5-c0b9-c09f240f423c"
      },
      "execution_count": null,
      "outputs": [
        {
          "output_type": "stream",
          "name": "stdout",
          "text": [
            "before:  [-6, 5, 2, 9, 1, -6, 0] , after:  [-6, -6, 0, 1, 2, 5, 9]\n"
          ]
        }
      ]
    }
  ]
}
