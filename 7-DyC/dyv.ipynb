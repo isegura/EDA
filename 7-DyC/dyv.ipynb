{
  "nbformat": 4,
  "nbformat_minor": 0,
  "metadata": {
    "colab": {
      "name": "dyv.ipynb",
      "provenance": [],
      "collapsed_sections": [],
      "include_colab_link": true
    },
    "kernelspec": {
      "name": "python3",
      "display_name": "Python 3"
    }
  },
  "cells": [
    {
      "cell_type": "markdown",
      "metadata": {
        "id": "view-in-github",
        "colab_type": "text"
      },
      "source": [
        "<a href=\"https://colab.research.google.com/github/isegura/EDA/blob/master/dyv.ipynb\" target=\"_parent\"><img src=\"https://colab.research.google.com/assets/colab-badge.svg\" alt=\"Open In Colab\"/></a>"
      ]
    },
    {
      "cell_type": "markdown",
      "metadata": {
        "id": "h8DDE22ayxJD"
      },
      "source": [
        "# Divide y Vencerás\n",
        "\n",
        "## 1) Mayor elemento de un array\n",
        "\n"
      ]
    },
    {
      "cell_type": "code",
      "metadata": {
        "id": "B0-K6usHLOnV"
      },
      "source": [
        "def findMax(a: list) -> int:\n",
        "    \"\"\"returns the greatest element of A\"\"\"\n",
        "    #A none or A=[]\n",
        "    if a==None or len(a)==0:\n",
        "        return None\n",
        "\n",
        "    #base case\n",
        "    if len(a)==1:\n",
        "        return a[0]\n",
        "\n",
        "    #Recursive case\n",
        "    #dividir\n",
        "    m=len(a)//2\n",
        "    part1=a[0:m]\n",
        "    part2=a[m:]\n",
        "\n",
        "    #vencer\n",
        "    mayor1=findMax(part1) #el mayor del array part1\n",
        "    mayor2=findMax(part2)  #el mayor del array part2\n",
        "    #combinar\n",
        "    return max(mayor1,mayor2)\n"
      ],
      "execution_count": null,
      "outputs": []
    },
    {
      "cell_type": "markdown",
      "source": [
        "Vemos ahora una solución cuya complejidad espacial es menor, porque no utiliza listas auxiliares para almacenar las sublistas."
      ],
      "metadata": {
        "id": "YFeVT7jde13H"
      }
    },
    {
      "cell_type": "code",
      "metadata": {
        "id": "FRcd7kIO2u4m"
      },
      "source": [
        "def findMax2(a: list) -> int:\n",
        "    if a is None or len(a)==0:\n",
        "        return None\n",
        "    return _findMax(a, 0, len(a)-1)\n",
        "    \n",
        "def _findMax(a: list, start: int, end: int) -> int:\n",
        "    \"\"\"devuelve el mayor elemento en la partición [start, end]\"\"\"\n",
        "    if start == end: \n",
        "       return a[start]\n",
        "    elif start < end: \n",
        "        m = (start + end) // 2\n",
        "        mayor1 = _findMax(a, start, m)\n",
        "        mayor2 = _findMax(a, m+1, end)\n",
        "        return max(mayor1, mayor2)  \n",
        "    # el caso start > end, nunca se da \n"
      ],
      "execution_count": null,
      "outputs": []
    },
    {
      "cell_type": "markdown",
      "source": [
        "Aquí puedes encontrar código para probar las dos funciones anteriores. Ejecutalo varias veces, para probar con distintos tamaños y valores en la lista:"
      ],
      "metadata": {
        "id": "NgP4QOJut5m-"
      }
    },
    {
      "cell_type": "code",
      "metadata": {
        "id": "s0HO3vBwwH0I",
        "colab": {
          "base_uri": "https://localhost:8080/"
        },
        "outputId": "a3b51737-6514-4831-cf4c-25e34e15dd94"
      },
      "source": [
        "#Test \n",
        "import random\n",
        "n = random.randint(1, 7) # tamaño del array\n",
        "data=[]\n",
        "for i in range(n):\n",
        "  data.append(random.randint(0,50))\n",
        "\n",
        "print(\"The maximum elements in {} are {} \".format(data,findMax(data)))  \n",
        "print(\"The maximum elements in {} are {} \".format(data,findMax2(data)))  \n",
        "\n",
        "# Si no es True, hay algún error\n",
        "assert max(data) == findMax(data)\n",
        "# Si no es True, hay algún error\n",
        "assert max(data) == findMax2(data)\n"
      ],
      "execution_count": null,
      "outputs": [
        {
          "output_type": "stream",
          "name": "stdout",
          "text": [
            "The maximum elements in [29, 1, 9, 16, 49, 12] are 49 \n",
            "The maximum elements in [29, 1, 9, 16, 49, 12] are 49 \n"
          ]
        }
      ]
    },
    {
      "cell_type": "markdown",
      "metadata": {
        "id": "RXWDe5IQwXyW"
      },
      "source": [
        "## Función que devuelva el mayor y menor elemento de un array \n",
        "\n",
        "El siguiente problema es muy similar al anterior, pero ahora nuestra función devolverá el mayor elemento y el menor elemento de un array. \n",
        "\n"
      ]
    },
    {
      "cell_type": "code",
      "metadata": {
        "id": "mdZcODHTwbyk"
      },
      "source": [
        "def findMaxMin(a: list) -> (int, int):\n",
        "    \"\"\"función que recibe una lista y devuelve \n",
        "    el mayor y menor elemento en la lista\"\"\"\n",
        "    #a none or a=[]\n",
        "    if a is None or len(a)==0:\n",
        "        return None, None\n",
        "\n",
        "    #base case\n",
        "    if len(a)==1:\n",
        "        return a[0], a[0] \n",
        "\n",
        "    #Recursive case\n",
        "    #dividir\n",
        "    m=len(a)//2\n",
        "    part1=a[0:m]\n",
        "    part2=a[m:]\n",
        "\n",
        "    #vencer\n",
        "    max1, min1=findMaxMin(part1) \n",
        "    max2, min2=findMaxMin(part2) \n",
        "    \n",
        "    #combinar\n",
        "    return max(max1,max2), min(min1,min2)"
      ],
      "execution_count": null,
      "outputs": []
    },
    {
      "cell_type": "markdown",
      "source": [
        "**Ejercicio: **\n",
        "\n",
        "Implementa una versión de findMaxMin que tenga una menor computación espacial que la anterior versión. \n"
      ],
      "metadata": {
        "id": "aFrvXpNTgSvB"
      }
    },
    {
      "cell_type": "markdown",
      "source": [
        "La solución anterior es sencilla y resuelve el problema. La única pega es que en cada llamada recursiva se crean dos nuevas sublistas: part1 y part2, duplicando la información que hay en la lista a.\n",
        "\n",
        "Veamos una solución más eficiente en términos de complejidad espacial. En lugar de crear, la función recursiva se apoya en índices para indicar en que partición (desde el elemento que está en la posición start hasta el elemento que está en la posición end) de la lista vamos a buscar el mayor y menor elementos.\n",
        "\n",
        "Necesitamos un método principal que reciba la lista, y que internamente, llame al método recursivo auxiliar, que reciba la lista, e inicialmente la posición start = 0 , y \n",
        "end = len(a) - 1, que es la última posición de la lsita."
      ],
      "metadata": {
        "id": "LiPCvF1sHzXS"
      }
    },
    {
      "cell_type": "code",
      "source": [
        "def findMaxMin2(a: list) -> (int, int):\n",
        "    \"\"\"returns the largest and smallest element in a\"\"\"\n",
        "    if a is None or len(a) == 0:\n",
        "        return None, None\n",
        "    return _findMax(a, 0, len(a)-1)\n",
        "    \n",
        "def _findMaxMin(a: list, start: int, end: int) -> (int, int):\n",
        "    \"\"\"devuelve el mayor y el menor elemento en la partición [start, end]\"\"\"\n",
        "    if start == end:\n",
        "        return a[start], a[start]\n",
        "    if start < end:\n",
        "        mid=(start+ end)//2\n",
        "        max1, min1=_findMaxMin(a, start, mid)\n",
        "        max2, min2=_findMaxMin(a, mid+1, end)\n",
        "        return (max(max1,max2), min(min1, min2))\n",
        "    # else, start > end, nunca se produce\n",
        "  "
      ],
      "metadata": {
        "id": "IZ8HQIomyIgS"
      },
      "execution_count": null,
      "outputs": []
    },
    {
      "cell_type": "markdown",
      "source": [
        "El siguiente código nos ayuda a probar ambas implementaciones"
      ],
      "metadata": {
        "id": "Kz_YMsqaIcjn"
      }
    },
    {
      "cell_type": "code",
      "metadata": {
        "id": "RCuCmoWow08Z",
        "colab": {
          "base_uri": "https://localhost:8080/"
        },
        "outputId": "b3f10fd4-a94a-4bf2-d41b-9093d84cf49e"
      },
      "source": [
        "#Test \n",
        "data=[]\n",
        "n = random.randint(0, 10)\n",
        "for i in range(n):\n",
        "  data.append(random.randint(0,50))\n",
        "\n",
        "print(\"The maximum and minimum elements in {} are {} \".format(data,findMaxMin(data)))  \n",
        "print(\"The maximum and minimum elements in {} are {} \".format(data,findMaxMin2(data)))  \n",
        "\n",
        "# Esta parte del código simplemente nos ayuda a comprobar que nuestro código\n",
        "# es correcto (es como el unittest)\n",
        "if len(data) > 0:\n",
        "    assert max(data), min(data) == findMaxMin(data)\n",
        "    assert max(data), min(data) == findMaxMin2(data)\n",
        "else:\n",
        "    assert None, None == findMaxMin(data)\n",
        "    assert None, None == findMaxMin2(data)\n",
        "\n"
      ],
      "execution_count": null,
      "outputs": [
        {
          "output_type": "stream",
          "name": "stdout",
          "text": [
            "The maximum and minimum elements in [50, 16] are 50 \n",
            "The maximum and minimum elements in [50, 16] are 50 \n"
          ]
        }
      ]
    },
    {
      "cell_type": "markdown",
      "metadata": {
        "id": "n9zjiVvbxqRH"
      },
      "source": [
        "*Implementa* una función que devuelva **el número par más pequeño** en una lista de Python. Si la lista no contiene valores pares debe devolver None.\n",
        "Directamente implementamos la versión más eficiente en términos de complejidad espacial (puedes probar tú a implementar la solución usando sublistas).\n"
      ]
    },
    {
      "cell_type": "code",
      "source": [
        "def findLowestEven(a: list) -> int:\n",
        "    if a is None or len(a) == 0:\n",
        "        return None\n",
        "\n",
        "    return _findLowestEven(a, 0, len(a) -1 )\n",
        "    \n",
        "def _findLowestEven(a: list, start: int, end: int) -> int:\n",
        "    if start == end:\n",
        "        if a[start] % 2 == 0:\n",
        "            return a[start]\n",
        "        else:\n",
        "            # No existe ningún par\n",
        "            return None\n",
        "    elif start < end:\n",
        "        mid=(start+ end)//2\n",
        "        min_even1=_findLowestEven(a, start, mid)\n",
        "        min_even2=_findLowestEven(a, mid+1, end)\n",
        "        if min_even1 != None and min_even2 != None:\n",
        "            return min(min_even1, min_even2)\n",
        "        elif min_even1 != None:\n",
        "            return min_even1\n",
        "        elif min_even2 != None:\n",
        "            return min_even2\n",
        "        else: #ambos son None\n",
        "            return None"
      ],
      "metadata": {
        "id": "EBT6URnS0rNZ"
      },
      "execution_count": null,
      "outputs": []
    },
    {
      "cell_type": "markdown",
      "source": [
        "Ejecuta el siguiente código para probar la función con distintos tamaños y valores en la lista:"
      ],
      "metadata": {
        "id": "o1d2Kj7cOR4q"
      }
    },
    {
      "cell_type": "code",
      "source": [
        "import random\n",
        "#Test \n",
        "data=[]\n",
        "n = random.randint(0,10)\n",
        "for i in range(n):\n",
        "  data.append(random.randint(-50,50))\n",
        "\n",
        "# data = [1, 3, -1, 5, 7]\n",
        "print(\"The minimum even in  {} is {} \".format(data,findLowestEven(data)))  \n"
      ],
      "metadata": {
        "colab": {
          "base_uri": "https://localhost:8080/"
        },
        "id": "iGCAuDJz1ukX",
        "outputId": "9aeab816-e366-479b-dc41-afa1944cad10"
      },
      "execution_count": null,
      "outputs": [
        {
          "output_type": "stream",
          "name": "stdout",
          "text": [
            "The minimum even in  [-10, 23, 9, 43, -12, 35] is -12 \n"
          ]
        }
      ]
    },
    {
      "cell_type": "markdown",
      "source": [
        "Implementa una función que devuelva el par e impar más pequeños en una lista.\n",
        "\n",
        "Primera versión usando sublistas (menos eficiente en términos de complejidad espacial). "
      ],
      "metadata": {
        "id": "CmdzAQQpOw_-"
      }
    },
    {
      "cell_type": "code",
      "metadata": {
        "id": "zIQICBRuxub5"
      },
      "source": [
        "def findLowestEvenOdd(a: list) -> (int, int):\n",
        "    \"\"\"returns the lowest even and the lowest odd of A\"\"\"\n",
        "    # Caso Base: a es nulo o está vacío\n",
        "    if a is None or len(a)==0:\n",
        "        return None, None\n",
        "\n",
        "    # Caso base, a tiene un único elemento\n",
        "    if len(a)==1:\n",
        "        if a[0]%2==0:\n",
        "            return a[0], None\n",
        "        else:\n",
        "            return None, a[0]\n",
        "\n",
        "    #dividir\n",
        "    m=len(a)//2\n",
        "    part1=a[0:m]\n",
        "    part2=a[m:]\n",
        "\n",
        "    minEven1,minOdd1= findLowestEvenOdd(part1)\n",
        "    minEven2,minOdd2=findLowestEvenOdd(part2)\n",
        "\n",
        "    minEven = None\n",
        "    if minEven1 != None and minEven2 != None:\n",
        "        minEven = min(minEven1,minEven2)\n",
        "    elif minEven1 !=  None:\n",
        "        minEven = minEven1\n",
        "    elif minEven2 != None:\n",
        "        minEven = minEven2\n",
        "    # else: #los dos son None, no es necesario porque ya está definido a NOne, por defecto\n",
        "    #    minEven = None\n",
        "\n",
        "    minOdd = None\n",
        "    if minOdd1 != None and minOdd2 != None:\n",
        "        minOdd=min(minOdd1,minOdd2)\n",
        "    elif minOdd1 != None:\n",
        "        minOdd=minOdd1\n",
        "    elif minOdd2 != None:\n",
        "        minOdd=minOdd2\n",
        "    # else: #los dos son None\n",
        "    #    minOdd=None\n",
        "    \n",
        "    # devolvemos el par y el impar más pequeños\n",
        "    return minEven, minOdd\n"
      ],
      "execution_count": null,
      "outputs": []
    },
    {
      "cell_type": "markdown",
      "source": [
        "Ejecuta el código varias veces y comprueba el resultado cada vez:"
      ],
      "metadata": {
        "id": "6lFc0hLoQMut"
      }
    },
    {
      "cell_type": "code",
      "source": [
        "\n",
        "\n",
        "data = []\n",
        "n = random.randint(0,10)\n",
        "for i in range(n):\n",
        "    x=random.randint(0, 25)\n",
        "    data.append(x)\n",
        "\n",
        "print(\"findLowestEvenOdd({})={}\".format(data,findLowestEvenOdd(data)))\n"
      ],
      "metadata": {
        "colab": {
          "base_uri": "https://localhost:8080/"
        },
        "id": "HJbsPvaaQLWZ",
        "outputId": "9830bed7-49ff-4d8a-edf4-bccdd2cc5b1b"
      },
      "execution_count": null,
      "outputs": [
        {
          "output_type": "stream",
          "name": "stdout",
          "text": [
            "findLowestEvenOdd([15, 20, 19, 21])=(20, 15)\n"
          ]
        }
      ]
    },
    {
      "cell_type": "markdown",
      "metadata": {
        "id": "puGMGBWFNbSF"
      },
      "source": [
        "## Suma de los elementos de un array\n",
        "\n",
        "Implementa una función que reciba un array de enteros y devuelva su suma (aplicando divide y vencerás).\n",
        "\n"
      ]
    },
    {
      "cell_type": "code",
      "metadata": {
        "id": "Cvozia2LdEw4"
      },
      "source": [
        "def sumaArray(a: list) -> int:\n",
        "    \"\"\"devuelve la suma de los elementos del array a\"\"\"\n",
        "\n",
        "    if a is None or len(a)==0:\n",
        "        return 0\n",
        "        \n",
        "    #base case\n",
        "    if len(a)==1:\n",
        "        return a[0]\n",
        "\n",
        "    #recursive case\n",
        "\n",
        "    #dividir\n",
        "    m=len(a)//2\n",
        "    part1=a[0:m]\n",
        "    part2=a[m:]\n",
        "\n",
        "    #vencer\n",
        "    sum1=sumaArray(part1)\n",
        "    sum2=sumaArray(part2)\n",
        "    \n",
        "    #combinar\n",
        "    return sum1+sum2\n"
      ],
      "execution_count": null,
      "outputs": []
    },
    {
      "cell_type": "markdown",
      "source": [
        "Veamos ahora una versión más eficiente en términos de complejidad espacial:"
      ],
      "metadata": {
        "id": "LCfQHcg6Q21q"
      }
    },
    {
      "cell_type": "code",
      "source": [
        "def sumaArray2(a: list) -> int:\n",
        "\n",
        "    \"\"\"devuelve la suma de los elementos del array a\"\"\"\n",
        "    if a is None or len(a)==0:\n",
        "        return 0\n",
        "    return _sumaArray(a, 0, len(a)-1)\n",
        "\n",
        "def _sumaArray(a: list, start, end: int) -> int:\n",
        "    \"\"\"devuelve la suma de los elementos en la partición desde el elemento en la \n",
        "    posición start hasta el elemento en la posición end, ambos incluidos\"\"\"\n",
        "\n",
        "    if start == end:\n",
        "        return a[start]\n",
        "\n",
        "    if start < end:\n",
        "        m = (start + end) // 2\n",
        "        suma_1= _sumaArray(a, start, m)\n",
        "        suma_2= _sumaArray(a, m+1, end)\n",
        "        return suma_1 + suma_2\n",
        "    \n",
        "    # El caso start > end, nunca se da\n"
      ],
      "metadata": {
        "id": "40QR3mkZRBcp"
      },
      "execution_count": null,
      "outputs": []
    },
    {
      "cell_type": "markdown",
      "source": [
        "Ejecuta el siguiente código para probar la función anterior:"
      ],
      "metadata": {
        "id": "wZbYfmAjRf8g"
      }
    },
    {
      "cell_type": "code",
      "source": [
        "data=[]\n",
        "n = random.randint(0, 8)\n",
        "for i in range(n):\n",
        "    data.append(random.randint(-10,10))\n",
        "\n",
        "print(\"sumaArray({})={}\".format(data, sumaArray(data)))\n",
        "print(\"sumaArray({})={}\".format(data, sumaArray2(data)))\n",
        "\n",
        "assert sum(data) == sumaArray(data)\n",
        "assert sum(data) == sumaArray2(data)"
      ],
      "metadata": {
        "colab": {
          "base_uri": "https://localhost:8080/"
        },
        "id": "wFhjYE7HQoR2",
        "outputId": "0a7ac8c2-2e65-43c1-f30f-d4719eacd9c7"
      },
      "execution_count": null,
      "outputs": [
        {
          "output_type": "stream",
          "name": "stdout",
          "text": [
            "sumaArray([-1, -1, 9, 1, 6, -2, 6, 9])=27\n",
            "sumaArray([-1, -1, 9, 1, 6, -2, 6, 9])=27\n"
          ]
        }
      ]
    },
    {
      "cell_type": "markdown",
      "metadata": {
        "id": "O_-r8Y0VzpBO"
      },
      "source": [
        "Implementa una función basada en divide y \n",
        "vencerás que **sume los elementos múltiplos de 5 **en una array.\n"
      ]
    },
    {
      "cell_type": "code",
      "metadata": {
        "id": "Z7H3oKgbzrq-"
      },
      "source": [
        "def sumMultiply5a(a: list) -> int:\n",
        "    if a is None or len(a)==0:\n",
        "        return 0\n",
        "\n",
        "    if len(a)==1:\n",
        "        if a[0]%5==0:\n",
        "            return a[0]\n",
        "        else:\n",
        "            return 0\n",
        "\n",
        "    m=len(a)//2\n",
        "    part1=a[0:m]\n",
        "    part2=a[m:]\n",
        "\n",
        "    sum1=sumMultiply5a(part1)\n",
        "    sum2=sumMultiply5a(part2)\n",
        "    return sum1+sum2\n",
        "    \n"
      ],
      "execution_count": null,
      "outputs": []
    },
    {
      "cell_type": "code",
      "source": [
        "def sumMultiply5b(a: list) -> int:\n",
        "    if a is None or len(a)==0:\n",
        "        return 0\n",
        "    return _sumMultiply5(a, 0, len(a)-1)\n",
        "\n",
        "def _sumMultiply5(a: list, start, end: int) -> int:\n",
        "    \"\"\"returns the sum of the multiples of 5\"\"\"\n",
        "\n",
        "    if start == end:\n",
        "        if a[start] % 5 == 0:\n",
        "           return a[start]\n",
        "        else:\n",
        "            return 0\n",
        "    elif start < end:\n",
        "        m = (start + end) // 2\n",
        "        multiples_1= _sumMultiply5(a, start, m)\n",
        "        multiples_2= _sumMultiply5(a, m+1, end)\n",
        "        return multiples_1 + multiples_2\n",
        "\n"
      ],
      "metadata": {
        "id": "97S85PoK3DDU"
      },
      "execution_count": null,
      "outputs": []
    },
    {
      "cell_type": "code",
      "metadata": {
        "id": "VqZkIFsfz870",
        "colab": {
          "base_uri": "https://localhost:8080/"
        },
        "outputId": "7e9dd493-6b22-43f2-cd95-9ab83b8fec59"
      },
      "source": [
        "data = []\n",
        "n = random.randint(0, 10)\n",
        "for i in range(n):\n",
        "    x=random.randint(0, 100)\n",
        "    data.append(x)\n",
        "\n",
        "\n",
        "print(\"sumMultiply5({})={}\".format(data, sumMultiply5a(data)))\n",
        "print(\"sumMultiply5({})={}\".format(data, sumMultiply5b(data)))\n",
        "\n",
        "# esto nos ayuda a comprobar que nuestro código es correcto\n",
        "result = [e for e in data if e % 5 == 0]\n",
        "assert sum(result) == sumMultiply5a(data)\n",
        "assert sum(result) == sumMultiply5b(data)\n"
      ],
      "execution_count": null,
      "outputs": [
        {
          "output_type": "stream",
          "name": "stdout",
          "text": [
            "sumMultiply5([35, 35, 86, 73, 31])=70\n",
            "sumMultiply5([35, 35, 86, 73, 31])=70\n"
          ]
        }
      ]
    },
    {
      "cell_type": "markdown",
      "metadata": {
        "id": "5vHjJwZZ2aBm"
      },
      "source": [
        "## Binary search\n",
        "\n",
        "Implementa una función que reciba una lista ordenada y un entero x, y devuelva True si existe, y False eoc. "
      ]
    },
    {
      "cell_type": "code",
      "metadata": {
        "id": "cFdjZDPnMSZW"
      },
      "source": [
        "def binarySearch(a: list, x: int) -> bool:\n",
        "    \"\"\"A is a sorted array. \n",
        "    It returns True if x is found, False eoc.\"\"\"\n",
        "    if a==None:\n",
        "        return False\n",
        "        \n",
        "    #base case\n",
        "    if len(a)==0:\n",
        "        return False\n",
        "    #recursive case\n",
        "    m=len(a)//2\n",
        "\n",
        "    if x==a[m]:\n",
        "        return True\n",
        "\n",
        "    if x<a[m]:\n",
        "        return binarySearch(a[0:m],x)\n",
        "\n",
        "    if x>a[m]:\n",
        "        return binarySearch(a[m+1:],x)\n",
        "\n"
      ],
      "execution_count": null,
      "outputs": []
    },
    {
      "cell_type": "code",
      "metadata": {
        "id": "jMg17hmlMuaf",
        "colab": {
          "base_uri": "https://localhost:8080/"
        },
        "outputId": "d9ea29d1-ca06-4206-b1d1-d03911fb2651"
      },
      "source": [
        "#Test\n",
        "data=[1, 4, 38, 39, 40, 61, 69, 71, 81, 87]\n",
        "\n",
        "x=71 #an element that exists\n",
        "print(\"binarySearch({},{})={}\\n\".format(data, x, binarySearch(data, x)))\n",
        "\n",
        "#An element that does not exist\n",
        "x=50\n",
        "print(\"binarySearch({},{})={}\\n\".format(data, x, binarySearch(data, x)))\n"
      ],
      "execution_count": null,
      "outputs": [
        {
          "output_type": "stream",
          "name": "stdout",
          "text": [
            "binarySearch([1, 4, 38, 39, 40, 61, 69, 71, 81, 87],71)=7\n",
            "\n",
            "binarySearch([1, 4, 38, 39, 40, 61, 69, 71, 81, 87],50)=None\n",
            "\n"
          ]
        }
      ]
    },
    {
      "cell_type": "markdown",
      "source": [
        "Con el siguiente código podremos probar la función con distintas listas y distintos valores de x:"
      ],
      "metadata": {
        "id": "15wXT-xNTKyf"
      }
    },
    {
      "cell_type": "code",
      "source": [
        "data = []\n",
        "n = random.randint(0, 10)\n",
        "\n",
        "for i in range(n):\n",
        "    x=random.randint(-5, 5)\n",
        "    data.append(x)\n",
        "\n",
        "# ordenamos el array\n",
        "data.sort()\n",
        "\n",
        "\n",
        "value = random.randint(-5, 5)\n",
        "\n",
        "print(\"binarySearch({}, {}) = {} \\n\".format(data, value, binarySearch(data, value)))\n",
        "# aserción simplemente para comprobar si nuestro código es correcto o no\n",
        "assert (value in data) == binarySearch(data, value)"
      ],
      "metadata": {
        "colab": {
          "base_uri": "https://localhost:8080/"
        },
        "id": "J5CzfA1jTKFh",
        "outputId": "2f7d37c5-b5f7-442b-81f6-4d77eb251c04"
      },
      "execution_count": null,
      "outputs": [
        {
          "output_type": "stream",
          "name": "stdout",
          "text": [
            "binarySearch([-3, -2, 0, 0, 3, 5], -3) = True \n",
            "\n"
          ]
        }
      ]
    },
    {
      "cell_type": "markdown",
      "metadata": {
        "id": "6Tp3aivi0kBc"
      },
      "source": [
        "Implementa una función que reciba un **array  ordenado de enteros y sin duplicados** A y un valor x, y **devuelva el índice de x en el array A**. Si x no existe, la función devuelve -1. No está permitido aplicar slicing (es decir, expresiones del tipo A[0:m] o A[m:]) ni crear sublistas auxiliares."
      ]
    },
    {
      "cell_type": "code",
      "metadata": {
        "id": "DW56ofpaeWwe"
      },
      "source": [
        "def binarySearch(a: list, x: int) -> int:\n",
        "    #base case\n",
        "    if a is None or len(a)==0:\n",
        "        return -1\n",
        "    return _binarySearch(a, x, 0, len(a)-1)\n",
        "\n",
        "def _binarySearch(a: list, x: int, start: int, end: int) -> int:\n",
        "    \"\"\"returns the index of x in a. \"\"\"\n",
        "    \n",
        "    #recursive case\n",
        "    if start <= end:\n",
        "        m = (start+end)//2\n",
        "        if x==a[m]:\n",
        "            return m\n",
        "\n",
        "        if x<a[m]:\n",
        "            return _binarySearch(a,x,start,m-1)\n",
        "        if x>a[m]:\n",
        "            return _binarySearch(a,x,m+1,end)\n",
        "\n",
        "    else:\n",
        "        # no existe\n",
        "        return -1\n"
      ],
      "execution_count": 21,
      "outputs": []
    },
    {
      "cell_type": "code",
      "metadata": {
        "id": "qo0P2pJTe0UF",
        "colab": {
          "base_uri": "https://localhost:8080/"
        },
        "outputId": "5dd91139-b082-44d8-8921-cb3335b40a29"
      },
      "source": [
        "data = []\n",
        "n = random.randint(0, 8)\n",
        "\n",
        "for i in range(n):\n",
        "    x=random.randint(0, 5)\n",
        "    data.append(x)\n",
        "\n",
        "# borramos duplicados y además ordena\n",
        "data = list(set(data))\n",
        "\n",
        "\n",
        "value = random.randint(0, 5)\n",
        "print(data, value)\n",
        "print(\"binarySearch({}, {}) = {} \\n\".format(data, value, binarySearch(data, value)))\n",
        "# aserción simplemente para comprobar si nuestro código es correcto o no\n",
        "try: \n",
        "    index = data.index(value)\n",
        "except:\n",
        "    index = -1\n",
        "assert index == binarySearch(data, value)"
      ],
      "execution_count": 26,
      "outputs": [
        {
          "output_type": "stream",
          "name": "stdout",
          "text": [
            "[0, 1, 2, 3, 4, 5] 5\n",
            "binarySearch([0, 1, 2, 3, 4, 5], 5) = 5 \n",
            "\n"
          ]
        }
      ]
    },
    {
      "cell_type": "markdown",
      "metadata": {
        "id": "02HMyf4K0V11"
      },
      "source": [
        "Implementa una función basada en divide y vencerás que reciba una lista de strings y **devuelva una lista con los strings que tengan longitud menor o igual que 2**. \n"
      ]
    },
    {
      "cell_type": "code",
      "metadata": {
        "colab": {
          "base_uri": "https://localhost:8080/"
        },
        "outputId": "700178cc-918b-4a1e-9c57-890d8f2ebf10",
        "id": "X6g1i2mF6fKw"
      },
      "source": [
        "def getWordsLength2(words: list) -> list:\n",
        "    if words is None or len(words)==0:\n",
        "        return []\n",
        "\n",
        "    if len(words)==1:\n",
        "        w=words[0]\n",
        "        if len(w)<=2:\n",
        "            return [w] \n",
        "        else:\n",
        "            return []\n",
        "\n",
        "    m=len(words)//2\n",
        "    part1=words[:m]\n",
        "    part2=words[m:]\n",
        "\n",
        "    result1=getWordsLength2(part1)\n",
        "    result2=getWordsLength2(part2)\n",
        "    \n",
        "    return result1+result2\n",
        "\n",
        "words=[\"Ha\", \"llegado\", \"el\", \"afilador\", \"a\", \"su\", \"domicilio\", \"a\", \"la\", \"puerta\", \"de\", \"su\", \"casa\", \"se\", \"afilan\", \"cuchillos\", \"tijeras\"]\n",
        "print(\"getWordsLength2({})  =\\n    {}\".format(words,getWordsLength2(words)))"
      ],
      "execution_count": 27,
      "outputs": [
        {
          "output_type": "stream",
          "name": "stdout",
          "text": [
            "getWordsLength2(['Ha', 'llegado', 'el', 'afilador', 'a', 'su', 'domicilio', 'a', 'la', 'puerta', 'de', 'su', 'casa', 'se', 'afilan', 'cuchillos', 'tijeras'])  =\n",
            "    ['Ha', 'el', 'a', 'su', 'a', 'la', 'de', 'su', 'se']\n"
          ]
        }
      ]
    },
    {
      "cell_type": "markdown",
      "source": [
        "Y ahora la versión más eficiente en términos de complejidad espacial:"
      ],
      "metadata": {
        "id": "JQKMnyRyZbgL"
      }
    },
    {
      "cell_type": "code",
      "source": [
        "def getWordsLength2(words: list) -> list:\n",
        "    if words is None or len(words) == 0:\n",
        "        return None\n",
        "\n",
        "    result = []\n",
        "    _getWordsLenght2(words, 0, len(words)-1, result)\n",
        "    return result\n",
        "\n",
        "def _getWordsLenght2(words: list, start: int, end: int, output: list) -> None:\n",
        "    if start == end:\n",
        "        if len(words[start]) <= 2:\n",
        "            output.append(words[start])\n",
        "        else:\n",
        "            pass\n",
        "    elif start < end:\n",
        "        m = (start + end) // 2\n",
        "        _getWordsLenght2(words, start, m, output)\n",
        "        _getWordsLenght2(words, m+1, end, output)\n",
        "    # if start > end, no añadimos nada\n",
        "        \n",
        "\n",
        "\n",
        "words=[\"Ha\", \"llegado\", \"el\", \"afilador\", \"a\", \"su\", \"domicilio\", \"a\", \"la\", \"puerta\", \"de\", \"su\", \"casa\", \"se\", \"afilan\", \"cuchillos\", \"tijeras\"]\n",
        "print(getWordsLength2(words))\n"
      ],
      "metadata": {
        "colab": {
          "base_uri": "https://localhost:8080/"
        },
        "id": "0fjgDkir5X3E",
        "outputId": "1a905873-1dae-4319-cc7d-64dbd4921569"
      },
      "execution_count": 28,
      "outputs": [
        {
          "output_type": "stream",
          "name": "stdout",
          "text": [
            "['Ha', 'el', 'a', 'su', 'a', 'la', 'de', 'su', 'se']\n"
          ]
        }
      ]
    },
    {
      "cell_type": "markdown",
      "metadata": {
        "id": "pkArxcwu0kyC"
      },
      "source": [
        "Implementa una función basada en divide y vencerás que reciba una lista de strings y que devuelva la **palabra con mayor longitud**. "
      ]
    },
    {
      "cell_type": "code",
      "metadata": {
        "id": "3H0zGHGz0nOE",
        "colab": {
          "base_uri": "https://localhost:8080/"
        },
        "outputId": "7f9cab5c-8381-4b2a-8f32-9994c7f41bf0"
      },
      "source": [
        "def longestWord(words: list) -> str:\n",
        "    if words is None or len(words)==0:\n",
        "        return None\n",
        "\n",
        "    if len(words)==1:\n",
        "        return words[0]\n",
        "\n",
        "    m=len(words)//2\n",
        "    part1=words[:m]\n",
        "    part2=words[m:]\n",
        "    \n",
        "    word1=longestWord(part1)\n",
        "    word2=longestWord(part2)\n",
        "\n",
        "    if word1==None and word2==None:\n",
        "        return None\n",
        "    elif word1==None:\n",
        "        return word2\n",
        "    elif word2==None:\n",
        "        return word1\n",
        "    else:\n",
        "        if len(word1)>=len(word2):\n",
        "            return word1\n",
        "        else:\n",
        "            return word2\n",
        "\n",
        "A=['ata','mata','atare','vitamina','oz']\n",
        "print(\"longestWord({})={}\".format(A,longestWord(A)))"
      ],
      "execution_count": 29,
      "outputs": [
        {
          "output_type": "stream",
          "name": "stdout",
          "text": [
            "longestWord(['ata', 'mata', 'atare', 'vitamina', 'oz'])=vitamina\n"
          ]
        }
      ]
    },
    {
      "cell_type": "markdown",
      "source": [
        "Y la versión que no usa sublistas:"
      ],
      "metadata": {
        "id": "tapogb58Zm1S"
      }
    },
    {
      "cell_type": "code",
      "source": [
        "def longest_words(a: list) -> str:\n",
        "    if a is None or len(a) == 0:\n",
        "        return None\n",
        "\n",
        "    return _longest_words(a, 0, len(a)-1 )\n",
        "\n",
        "def _longest_words(a: list, start: int, end: int) -> str:\n",
        "    if start == end:\n",
        "        return a[start]\n",
        "    elif start < end:\n",
        "        m = (start + end) // 2\n",
        "        max_word_1 = _longest_words(a, start, m)\n",
        "        max_word_2 = _longest_words(a, m+1, end)\n",
        "        if len(max_word_1) >= len(max_word_2):\n",
        "            return max_word_1\n",
        "        else:\n",
        "            return max_word_2\n",
        "\n",
        "    # elif start > end: no hacemos nada\n",
        "        # nunca se cumple este caso:\n"
      ],
      "metadata": {
        "id": "6esuFnLYP-no"
      },
      "execution_count": 30,
      "outputs": []
    },
    {
      "cell_type": "code",
      "source": [
        "words=[\"caballo\", \"zebra\", \"elefante\", \"atún\", \"zoo\"]\n",
        "print(longest_words(words))"
      ],
      "metadata": {
        "id": "TAnjSYaqXRvw",
        "outputId": "c6d0af94-92c3-411e-a4ba-80eea6c34010",
        "colab": {
          "base_uri": "https://localhost:8080/"
        }
      },
      "execution_count": 31,
      "outputs": [
        {
          "output_type": "stream",
          "name": "stdout",
          "text": [
            "elefante\n"
          ]
        }
      ]
    },
    {
      "cell_type": "markdown",
      "source": [
        "Aplicando divide y vencerás, resuelve los siguientes problemas: \n",
        "\n",
        "- Implementa una función que devuelva el index de la primera ocurrencia de un elemento x en una lista de Python. Si el elemento no existe, devuelve -1. \n"
      ],
      "metadata": {
        "id": "2Vlkp3lZjRFi"
      }
    },
    {
      "cell_type": "code",
      "source": [
        "def first_occurrence(a: list, x: int) -> int:\n",
        "    if a is None or len(a) == 0:\n",
        "        return -1 \n",
        "    return _first_occurrence(a, x, 0, len(a)-1)\n",
        "\n",
        "def _first_occurrence(a: list, x: int, start: int, end: int) -> int:\n",
        "    if start == end:\n",
        "        if a[start] == x:\n",
        "            return start\n",
        "        else:\n",
        "            return -1\n",
        "    if start < end:\n",
        "        m = (start + end) // 2\n",
        "        index = _first_occurrence(a, x, start, m)\n",
        "        if index == -1:\n",
        "            index = _first_occurrence(a, x, m+1, end)\n",
        "        \n",
        "        return index\n",
        "            \n",
        "    return -1\n"
      ],
      "metadata": {
        "id": "QAHVoRa0Z8gb"
      },
      "execution_count": 32,
      "outputs": []
    },
    {
      "cell_type": "code",
      "source": [
        "data = []\n",
        "n = random.randint(0, 8)\n",
        "\n",
        "for i in range(n):\n",
        "    data.append(random.randint(0, 5))\n",
        "\n",
        "value = random.randint(0, 5)\n",
        "\n",
        "print(\"first_occurrence({}, {}) = {}\".format(data,value, first_occurrence(data, value)))\n",
        "\n"
      ],
      "metadata": {
        "colab": {
          "base_uri": "https://localhost:8080/"
        },
        "id": "MvzLwOz_az4l",
        "outputId": "b7d6973c-36e3-4f21-94a2-e49d5ca9fab2"
      },
      "execution_count": 34,
      "outputs": [
        {
          "output_type": "stream",
          "name": "stdout",
          "text": [
            "first_occurrence([], 4) = -1\n"
          ]
        }
      ]
    },
    {
      "cell_type": "markdown",
      "source": [
        "\n",
        "- Implementa una función que devuelva la última posición de un elemento x en un lista de Python. Si el elemento no existe devuelve -1. \n",
        "\n"
      ],
      "metadata": {
        "id": "s07kFtMzc8P1"
      }
    },
    {
      "cell_type": "code",
      "source": [
        "def last_occurrence(a: list, x: int) -> int:\n",
        "    if a is None or len(a) == 0:\n",
        "        return -1 \n",
        "    return _first_occurrence(a, x, 0, len(a)-1)\n",
        "\n",
        "def _last_occurrence(a: list, x: int, start: int, end: int) -> int:\n",
        "    if start == end:\n",
        "        if a[start] == x:\n",
        "            return start\n",
        "        else:\n",
        "            return -1\n",
        "    if start < end:\n",
        "        m = (start + end) // 2\n",
        "        index1 = _last_occurrence(a, x, start, m)\n",
        "        index2 = _last_occurrence(a, x, m+1, end)\n",
        "        \n",
        "        return max(index1, index2)\n",
        "            \n",
        "    return -1"
      ],
      "metadata": {
        "id": "QQFeLK0WdIk4"
      },
      "execution_count": 35,
      "outputs": []
    },
    {
      "cell_type": "code",
      "source": [
        "data = []\n",
        "n = random.randint(0, 8)\n",
        "\n",
        "for i in range(n):\n",
        "    data.append(random.randint(0, 5))\n",
        "\n",
        "value = random.randint(0, 5)\n",
        "\n",
        "print(\"first_occurrence({}, {}) = {}\".format(data,value, first_occurrence(data, value)))\n",
        "print(\"last_occurrence({}, {}) = {}\".format(data,value, last_occurrence(data, value)))\n",
        "\n",
        "# Código para comprobar que first_occurrence es correcta\n",
        "try:\n",
        "    expected = data.index(value)\n",
        "except:\n",
        "    expected = -1 # si no existe, el método index da una excepción. \n",
        "                # nosotros la capturamos para devolver -1 en ese caso\n",
        "assert expected == first_occurrence(data, value)\n",
        "\n",
        "# Código para comprobar que last_occurrence es correcta\n",
        "try:\n",
        "    expected = max(idx for idx, val in enumerate(data) if val == value)\n",
        "    # print(expected)\n",
        "except:\n",
        "    expected = -1\n",
        "        \n",
        "                # nosotros la capturamos para devolver -1 en ese caso\n",
        "assert expected == last_occurrence(data, value)\n",
        "\n"
      ],
      "metadata": {
        "colab": {
          "base_uri": "https://localhost:8080/"
        },
        "id": "BIR9T2fHdUgA",
        "outputId": "458c2ac0-48d4-4ee1-d7cc-5ad380c09ed8"
      },
      "execution_count": 46,
      "outputs": [
        {
          "output_type": "stream",
          "name": "stdout",
          "text": [
            "first_occurrence([2, 2, 5, 3, 5, 0, 5], 1) = -1\n",
            "last_occurrence([2, 2, 5, 3, 5, 0, 5], 1) = -1\n"
          ]
        }
      ]
    },
    {
      "cell_type": "markdown",
      "source": [
        "- Implementa una función que dado una lista de Python y un valor, devuelva la lista ordenada de los índices donde ocurre dicho valor en la lista. No está permitido usar sorted o el método sort() para ordenar la lista de salida."
      ],
      "metadata": {
        "id": "ImYXdwuDeH4a"
      }
    },
    {
      "cell_type": "code",
      "source": [
        "def get_indices(a: list, x: int) -> list:\n",
        "    \"\"\"devuelve la lista de índices de las ocurrencias de x en a. La lista que \n",
        "    devuelve debe estar ordenada. No uses sort o sorted para ordenarla.\"\"\"\n",
        "    if a is None or len(a) == 0:\n",
        "        return []\n",
        "\n",
        "    result = []\n",
        "    _get_indices(a, x, 0, len(a)-1, result)\n",
        "    return result\n",
        "\n",
        "def _get_indices(a: list, x: int, start: int, end: int, lst_indices: list) -> None:\n",
        "    \"\"\"añade los índices de las ocurrencias de x en la partición [start, end] de forma ordenada,\n",
        "    sin usar ninguna función de ordenación de listas\"\"\"\n",
        "    if start <= end: \n",
        "        m = (start + end) // 2\n",
        "        _get_indices(a, x, start, m-1, lst_indices)\n",
        "        if a[m] == x:\n",
        "            lst_indices.append(m)\n",
        "        _get_indices(a, x, m+1, end, lst_indices)\n",
        "    # else:\n",
        "    # no hacemos nada, porque si start > end, no hay ningún elemento en la partición\n"
      ],
      "metadata": {
        "id": "OuOmruGheIiK"
      },
      "execution_count": 47,
      "outputs": []
    },
    {
      "cell_type": "code",
      "source": [
        "\n",
        "data = []\n",
        "n = random.randint(0, 15)\n",
        "\n",
        "for i in range(n):\n",
        "    data.append(random.randint(0, 5))\n",
        "\n",
        "value = random.randint(0, 5)\n",
        "\n",
        "print(\"get_indices({}, {}) = {}\".format(data,value, get_indices(data, value)))\n",
        "\n",
        "# Código para comprobar que tu solución es correcta\n",
        "expected = []\n",
        "for i in range(len(data)):\n",
        "    if data[i] == value:\n",
        "        expected.append(i)\n",
        "# si la solución no es correcta, lanzará una excepción\n",
        "assert expected == get_indices(data, value)"
      ],
      "metadata": {
        "colab": {
          "base_uri": "https://localhost:8080/"
        },
        "id": "Ji-Pqdbye-5A",
        "outputId": "e56bcd86-abdf-4884-904e-b292f60ab736"
      },
      "execution_count": 49,
      "outputs": [
        {
          "output_type": "stream",
          "name": "stdout",
          "text": [
            "get_indices([5, 0, 3, 3, 4, 3, 1, 5, 2, 5, 1], 3) = [2, 3, 5]\n"
          ]
        }
      ]
    },
    {
      "cell_type": "markdown",
      "source": [
        "\n",
        "- Implementa las funciones anteriores teniendo en cuenta que la lista está ordenada de menor a mayor. "
      ],
      "metadata": {
        "id": "wbOFlnZbe9v5"
      }
    },
    {
      "cell_type": "code",
      "source": [
        "def get_indices_sortedlist(a: list, x: int) -> list:\n",
        "    \"\"\"devuelve la lista de índices de las ocurrencias de x en la lista, que está ordenada\"\"\"\n",
        "    if a is None or len(a) == 0:\n",
        "        return []\n",
        "    result = []\n",
        "    _get_indices_sortedlist(a, x, 0, len(a)-1, result)\n",
        "    return result\n",
        "\n",
        "def _get_indices_sortedlist(a: list, x: int, start: int, end: int, lst_indices: list) -> None:\n",
        "    \"\"\"añade a la lista lst_índices los índices de las ocurrencias de x en la partición\n",
        "    [start, end]. La lista a está ordenada\"\"\"\n",
        "\n",
        "    if start <= end: \n",
        "        m = (start + end) // 2\n",
        "        _get_indices_sortedlist(a, x, start, m-1, lst_indices)\n",
        "        if a[m] == x:\n",
        "            lst_indices.append(m)\n",
        "        if a[m] <= x:\n",
        "            # Si x < a[m], no sería necesario buscar en la segunda parte\n",
        "            _get_indices_sortedlist(a, x, m+1, end, lst_indices)\n",
        "    # else:\n",
        "    # no hacemos nada\n"
      ],
      "metadata": {
        "id": "brjKLq8Sfi-H"
      },
      "execution_count": 50,
      "outputs": []
    },
    {
      "cell_type": "markdown",
      "source": [
        "Ejecuta el siguiente código varias veces para comprobar que la función funciona para disintas listas y valores"
      ],
      "metadata": {
        "id": "4hvZTaRguWqB"
      }
    },
    {
      "cell_type": "code",
      "source": [
        "data = []\n",
        "n = random.randint(0, 15)\n",
        "\n",
        "for i in range(n):\n",
        "    data.append(random.randint(0, 5))\n",
        "\n",
        "value = random.randint(0, 5)\n",
        "# ordenamos la lista antes de llamar a la función\n",
        "data.sort()\n",
        "\n",
        "print(\"get_indices_sorted({}, {}) = {}\".format(data,value, get_indices_sortedlist(data, value)))\n",
        "\n",
        "# Código para comprobar que tu solución es correcta\n",
        "expected = []\n",
        "for i in range(len(data)):\n",
        "    if data[i] == value:\n",
        "        expected.append(i)\n",
        "# si la solución no es correcta, lanzará una excepción\n",
        "assert expected == get_indices_sortedlist(data, value)\n",
        "\n"
      ],
      "metadata": {
        "colab": {
          "base_uri": "https://localhost:8080/"
        },
        "id": "kPTouAABf2SK",
        "outputId": "49bd8e0a-b644-4ad5-8d8a-d29328019b0a"
      },
      "execution_count": 52,
      "outputs": [
        {
          "output_type": "stream",
          "name": "stdout",
          "text": [
            "get_indices_sorted([1, 2, 2, 2, 3, 3, 4], 2) = [1, 2, 3]\n"
          ]
        }
      ]
    },
    {
      "cell_type": "markdown",
      "source": [
        "\n",
        "- Implementa una función que dada una lista ordenada de enteronos distintos no negativos, devuelva el entero más pequeño no negativo que no está presenten en la lista. \n"
      ],
      "metadata": {
        "id": "nCmWuSOPdCu4"
      }
    },
    {
      "cell_type": "code",
      "source": [
        "def smallest_out(a: list) -> int:\n",
        "    ...\n",
        "    \n"
      ],
      "metadata": {
        "id": "GzlDs-TEgRhV"
      },
      "execution_count": null,
      "outputs": []
    },
    {
      "cell_type": "markdown",
      "source": [
        "Código para probar:"
      ],
      "metadata": {
        "id": "FpzkGi_TBhVL"
      }
    },
    {
      "cell_type": "code",
      "source": [
        "data = []\n",
        "n = random.randint(0, 15)\n",
        "\n",
        "for i in range(n):\n",
        "    v = random.randint(0, 5)\n",
        "    if v not in data:\n",
        "        data.append(v)\n",
        "\n",
        "data.sort()\n",
        "\n",
        "\n",
        "print(\"smallest_out({}) = {}\".format(data, smallest_out(data)))\n"
      ],
      "metadata": {
        "id": "t93ZJzhRBi4X"
      },
      "execution_count": null,
      "outputs": []
    },
    {
      "cell_type": "markdown",
      "source": [
        "\n",
        "Implementa una función que dado una lista de Python, devuelva el número toda de pares (i, j), tales que si $i<j$, entonces $a[i]>a[j]$."
      ],
      "metadata": {
        "id": "C0_3-SxJgSCc"
      }
    },
    {
      "cell_type": "code",
      "source": [
        "def num_pairs(a: list, value = None) -> int:\n",
        "    ...\n"
      ],
      "metadata": {
        "id": "UrFBAWQWgVuN"
      },
      "execution_count": 57,
      "outputs": []
    },
    {
      "cell_type": "markdown",
      "source": [
        "Código para probar"
      ],
      "metadata": {
        "id": "QQuyviCcBuHo"
      }
    },
    {
      "cell_type": "code",
      "source": [
        "data = []\n",
        "n = random.randint(0, 15)\n",
        "\n",
        "for i in range(n):\n",
        "    data.append(random.randint(0, 5))\n",
        "\n",
        "print(\"num_pairs({}) = {}\".format(data, num_pairs(data)))\n"
      ],
      "metadata": {
        "colab": {
          "base_uri": "https://localhost:8080/"
        },
        "id": "p6PKpHEXAwfk",
        "outputId": "0aea8680-482c-457c-c108-c50efc9c1377"
      },
      "execution_count": 59,
      "outputs": [
        {
          "output_type": "stream",
          "name": "stdout",
          "text": [
            "num_pairs([4, 4, 0, 3, 4, 4, 5, 3, 1, 5, 5, 5, 1, 1]) = 0\n"
          ]
        }
      ]
    }
  ]
}
