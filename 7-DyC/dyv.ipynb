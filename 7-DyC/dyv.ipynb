{
  "nbformat": 4,
  "nbformat_minor": 0,
  "metadata": {
    "colab": {
      "name": "dyv.ipynb",
      "provenance": [],
      "collapsed_sections": [],
      "include_colab_link": true
    },
    "kernelspec": {
      "name": "python3",
      "display_name": "Python 3"
    }
  },
  "cells": [
    {
      "cell_type": "markdown",
      "metadata": {
        "id": "view-in-github",
        "colab_type": "text"
      },
      "source": [
        "<a href=\"https://colab.research.google.com/github/isegura/EDA/blob/master/dyv.ipynb\" target=\"_parent\"><img src=\"https://colab.research.google.com/assets/colab-badge.svg\" alt=\"Open In Colab\"/></a>"
      ]
    },
    {
      "cell_type": "markdown",
      "metadata": {
        "id": "h8DDE22ayxJD"
      },
      "source": [
        "# Divide y Vencerás\n",
        "\n",
        "## 1) Mayor elemento de un array\n",
        "\n"
      ]
    },
    {
      "cell_type": "code",
      "metadata": {
        "id": "B0-K6usHLOnV"
      },
      "source": [
        "def findMax(a: list) -> int:\n",
        "    \"\"\"returns the greatest element of A\"\"\"\n",
        "    #A none or A=[]\n",
        "    if a==None or len(a)==0:\n",
        "        return None\n",
        "\n",
        "    #base case\n",
        "    if len(a)==1:\n",
        "        return a[0]\n",
        "\n",
        "    #Recursive case\n",
        "    #dividir\n",
        "    m=len(a)//2\n",
        "    part1=a[0:m]\n",
        "    part2=a[m:]\n",
        "\n",
        "    #vencer\n",
        "    mayor1=findMax(part1) #el mayor del array part1\n",
        "    mayor2=findMax(part2)  #el mayor del array part2\n",
        "    #combinar\n",
        "    return max(mayor1,mayor2)\n",
        "\n",
        "\n",
        "\n",
        "\n"
      ],
      "execution_count": 70,
      "outputs": []
    },
    {
      "cell_type": "markdown",
      "source": [
        "Vemos ahora una solución cuya complejidad espacial es menor, porque no utiliza listas auxiliares para almacenar las sublistas."
      ],
      "metadata": {
        "id": "YFeVT7jde13H"
      }
    },
    {
      "cell_type": "code",
      "metadata": {
        "id": "FRcd7kIO2u4m"
      },
      "source": [
        "def findMax2(a: list) -> int:\n",
        "    if a and len(a)>0:\n",
        "        return _findMax(a, 0, len(a)-1)\n",
        "    else:\n",
        "        return None\n",
        "\n",
        "def _findMax(a: list, start: int, end: int) -> int:\n",
        "    if start==end:\n",
        "        return a[start]\n",
        "    else:\n",
        "        mid=(start+ end)//2\n",
        "        max1=_findMax(a, start, mid)\n",
        "        max2=_findMax(a, mid+1, end)\n",
        "        return max(max1,max2)\n",
        "            "
      ],
      "execution_count": 71,
      "outputs": []
    },
    {
      "cell_type": "markdown",
      "source": [
        "Aquí puedes encontrar código para probar las dos funciones anteriores. Ejecutalo varias veces, para probar con distintos tamaños y valores en la lista:"
      ],
      "metadata": {
        "id": "NgP4QOJut5m-"
      }
    },
    {
      "cell_type": "code",
      "metadata": {
        "id": "s0HO3vBwwH0I",
        "colab": {
          "base_uri": "https://localhost:8080/"
        },
        "outputId": "977eea6c-f8f7-4fd2-8db4-0209a5e5e788"
      },
      "source": [
        "import random\n",
        "#Test \n",
        "data=[]\n",
        "n = random.randint(1, 7)\n",
        "for i in range(n):\n",
        "  data.append(random.randint(0,50))\n",
        "\n",
        "print(\"The maximum element in {} is {} \".format(data,findMax(data)))  \n",
        "print(\"The maximum element in {} is {} \".format(data,findMax2(data)))\n",
        "\n",
        "# Si no es True, hay algún error\n",
        "assert max(data) == findMax(data)\n",
        "# Si no es True, hay algún error\n",
        "assert max(data) == findMax2(data)\n"
      ],
      "execution_count": 76,
      "outputs": [
        {
          "output_type": "stream",
          "name": "stdout",
          "text": [
            "The maximum element in [14, 21, 48, 45] is 48 \n",
            "The maximum element in [14, 21, 48, 45] is 48 \n"
          ]
        }
      ]
    },
    {
      "cell_type": "markdown",
      "metadata": {
        "id": "RXWDe5IQwXyW"
      },
      "source": [
        "## Función que devuelva el mayor y menor elemento de un array \n",
        "\n"
      ]
    },
    {
      "cell_type": "code",
      "metadata": {
        "id": "mdZcODHTwbyk"
      },
      "source": [
        "def findMaxMin(a: list) -> (int, int):\n",
        "    \"\"\"función que recibe una lista y devuelve \n",
        "    el mayor y menor elemento en la lista\"\"\"\n",
        "    #a none or a=[]\n",
        "    if a is None or len(a)==0:\n",
        "        return None, None\n",
        "\n",
        "    #base case\n",
        "    if len(a)==1:\n",
        "        return a[0], a[0] \n",
        "\n",
        "    #Recursive case\n",
        "    #dividir\n",
        "    m=len(a)//2\n",
        "    part1=a[0:m]\n",
        "    part2=a[m:]\n",
        "\n",
        "    #vencer\n",
        "    max1, min1=findMaxMin(part1) \n",
        "    max2, min2=findMaxMin(part2) \n",
        "    \n",
        "    #combinar\n",
        "    return max(max1,max2), min(min1,min2)"
      ],
      "execution_count": 77,
      "outputs": []
    },
    {
      "cell_type": "code",
      "metadata": {
        "id": "RCuCmoWow08Z",
        "colab": {
          "base_uri": "https://localhost:8080/"
        },
        "outputId": "f3af2c0d-f822-4d48-b31a-cc12c19ff872"
      },
      "source": [
        "#Test \n",
        "data=[]\n",
        "for i in range(5):\n",
        "  data.append(random.randint(0,50))\n",
        "\n",
        "print(\"The maximum and minimum elements in {} are {} \".format(data,findMaxMin(data)))  \n",
        "\n",
        "# Si no es True, hay algún error\n",
        "assert max(data), min(data) == findMaxMin(data)\n"
      ],
      "execution_count": 80,
      "outputs": [
        {
          "output_type": "stream",
          "name": "stdout",
          "text": [
            "The maximum and minimum elements in [34, 49, 26, 9, 49] are (49, 9) \n"
          ]
        }
      ]
    },
    {
      "cell_type": "markdown",
      "source": [
        "**Ejercicio: **\n",
        "\n",
        "Implementa una versión de findMaxMin que tenga una menor computación espacial que la anterior versión. \n"
      ],
      "metadata": {
        "id": "aFrvXpNTgSvB"
      }
    },
    {
      "cell_type": "code",
      "source": [
        "def findMaxMin2(a: list) -> (int, int):\n",
        "    if a and len(a)>0:\n",
        "        return _findMaxMin2(a, 0, len(a)-1)\n",
        "    else:\n",
        "        return None, None\n",
        "\n",
        "def _findMaxMin2(a: list, start: int, end: int) -> (int, int):\n",
        "    if start==end:\n",
        "        return a[start], a[start]\n",
        "    else:\n",
        "        mid=(start+ end)//2\n",
        "        max1, min1=_findMaxMin2(a, start, mid)\n",
        "        max2, min2=_findMaxMin2(a, mid+1, end)\n",
        "        return max(max1,max2), min(min1, min2)\n",
        "            "
      ],
      "metadata": {
        "id": "y-PxE1m5geSa"
      },
      "execution_count": 91,
      "outputs": []
    },
    {
      "cell_type": "code",
      "source": [
        "#Test \n",
        "data=[]\n",
        "n = random.randint(1,10)\n",
        "for i in range(n):\n",
        "  data.append(random.randint(0,50))\n",
        "\n",
        "print(\"The maximum and minimum elements in {} are {} \".format(data,findMaxMin2(data)))  \n",
        "\n",
        "# Si no es True, hay algún error\n",
        "assert max(data), min(data) == findMaxMin2(data)\n"
      ],
      "metadata": {
        "colab": {
          "base_uri": "https://localhost:8080/"
        },
        "id": "Vr22gczsgeQI",
        "outputId": "ef507140-78d8-404a-adb6-3d5ea7c44339"
      },
      "execution_count": 92,
      "outputs": [
        {
          "output_type": "stream",
          "name": "stdout",
          "text": [
            "The maximum and minimum elements in [47, 7, 34, 1, 38] are (47, 1) \n"
          ]
        }
      ]
    },
    {
      "cell_type": "markdown",
      "metadata": {
        "id": "n9zjiVvbxqRH"
      },
      "source": [
        "*Implementa* una función que devuelva **el número par más pequeño** en una lista de Python. Si la lista no contiene valores pares debe devolver None.\n"
      ]
    },
    {
      "cell_type": "code",
      "metadata": {
        "id": "zIQICBRuxub5",
        "colab": {
          "base_uri": "https://localhost:8080/"
        },
        "outputId": "93e4f490-263a-4902-8a85-3a60f899fe35"
      },
      "source": [
        "def findLowestEvenOdd(a: list) -> (int, int):\n",
        "    \"\"\"returns the lowest even and the lowest odd of A\"\"\"\n",
        "    \n",
        "    if a is None or len(a)==0:\n",
        "        return None, None\n",
        "\n",
        "    if len(a)==1:\n",
        "        if a[0]%2==0:\n",
        "            return a[0], None\n",
        "        else:\n",
        "            return None, a[0]\n",
        "\n",
        "    #dividir\n",
        "    m=len(a)//2\n",
        "    part1=a[0:m]\n",
        "    part2=a[m:]\n",
        "\n",
        "    minEven1,minOdd1= findLowestEvenOdd(part1)\n",
        "    minEven2,minOdd2=findLowestEvenOdd(part2)\n",
        "\n",
        "    if minEven1 and minEven2:\n",
        "        minEven = min(minEven1,minEven2)\n",
        "    elif minEven1 is None and minEven2:\n",
        "        minEven = minEven2\n",
        "    elif minEven2 is None and minEven1:\n",
        "        minEven = minEven1\n",
        "    else: #los dos son None\n",
        "        minEven = None\n",
        "\n",
        "    if minOdd1 and minOdd2:\n",
        "        minOdd=min(minOdd1,minOdd2)\n",
        "    elif minOdd1 is None and minOdd2:\n",
        "        minOdd=minOdd2\n",
        "    elif minOdd2 is None and minOdd1:\n",
        "        minOdd=minOdd1\n",
        "    else: #los dos son None\n",
        "        minOdd=None\n",
        "    \n",
        "\n",
        "    return minEven, minOdd\n",
        "\n",
        "\n",
        "data = []\n",
        "n = random.randint(0,10)\n",
        "for i in range(n):\n",
        "    x=random.randint(0, 25)\n",
        "    data.append(x)\n",
        "\n",
        "print(\"findLowestEvenOdd({})={}\".format(data,findLowestEvenOdd(data)))\n"
      ],
      "execution_count": 102,
      "outputs": [
        {
          "output_type": "stream",
          "name": "stdout",
          "text": [
            "findLowestEvenOdd([3])=(None, 3)\n"
          ]
        }
      ]
    },
    {
      "cell_type": "markdown",
      "metadata": {
        "id": "O_-r8Y0VzpBO"
      },
      "source": [
        "Implementa una función basada en divide y \n",
        "vencerás que **sume los elementos múltiplos de 5 **en una array.\n"
      ]
    },
    {
      "cell_type": "code",
      "metadata": {
        "id": "Z7H3oKgbzrq-"
      },
      "source": [
        "def sumMultiply5(a: list) -> int:\n",
        "    if a is None or len(a)==0:\n",
        "        return None, None\n",
        "\n",
        "    if len(a)==1:\n",
        "        if a[0]%5==0:\n",
        "            return a[0]\n",
        "        else:\n",
        "            return 0\n",
        "\n",
        "    m=len(a)//2\n",
        "    part1=a[0:m]\n",
        "    part2=a[m:]\n",
        "\n",
        "    sum1=sumMultiply5(part1)\n",
        "    sum2=sumMultiply5(part2)\n",
        "    return sum1+sum2\n",
        "    \n"
      ],
      "execution_count": 103,
      "outputs": []
    },
    {
      "cell_type": "code",
      "metadata": {
        "id": "VqZkIFsfz870",
        "colab": {
          "base_uri": "https://localhost:8080/"
        },
        "outputId": "4b8d4f5a-da90-4a42-e727-64790f8c8bc5"
      },
      "source": [
        "data = []\n",
        "n = random.randint(0, 10)\n",
        "for i in range(n):\n",
        "    x=random.randint(0, 100)\n",
        "    data.append(x)\n",
        "\n",
        "\n",
        "print(\"sumMultiply5({})={}\".format(data, sumMultiply5(data)))"
      ],
      "execution_count": 105,
      "outputs": [
        {
          "output_type": "stream",
          "name": "stdout",
          "text": [
            "sumMultiply5([82, 35])=35\n"
          ]
        }
      ]
    },
    {
      "cell_type": "markdown",
      "metadata": {
        "id": "5vHjJwZZ2aBm"
      },
      "source": [
        "## Binary search\n",
        "\n",
        "Given a **sorted list** and a number, x, return True if x is found, False otherwise."
      ]
    },
    {
      "cell_type": "code",
      "metadata": {
        "id": "cFdjZDPnMSZW"
      },
      "source": [
        "def binarySearch(a: list, x: int) -> bool:\n",
        "    \"\"\"A is a sorted array. \n",
        "    It returns True if x is found, False eoc.\"\"\"\n",
        "    if a==None:\n",
        "        return False\n",
        "        \n",
        "    #base case\n",
        "    if len(a)==0:\n",
        "        return False\n",
        "    #recursive case\n",
        "    m=len(a)//2\n",
        "\n",
        "    if x==a[m]:\n",
        "        return True\n",
        "\n",
        "    if x<a[m]:\n",
        "        return binarySearch(a[0:m],x)\n",
        "\n",
        "    if x>a[m]:\n",
        "        return binarySearch(a[m+1:],x)\n"
      ],
      "execution_count": 108,
      "outputs": []
    },
    {
      "cell_type": "code",
      "metadata": {
        "id": "jMg17hmlMuaf",
        "colab": {
          "base_uri": "https://localhost:8080/"
        },
        "outputId": "dbbe2ea1-d383-4370-85d2-cff6cea75b2e"
      },
      "source": [
        "#Test\n",
        "data=[1, 4, 38, 39, 40, 61, 69, 71, 81, 87]\n",
        "\n",
        "x=71 #an element that exists\n",
        "print(\"binarySearch({},{})={}\\n\".format(data, x, binarySearch(data, x)))\n",
        "\n",
        "#An element that does not exist\n",
        "x=50\n",
        "print(\"binarySearch({},{})={}\\n\".format(data, x, binarySearch(data, x)))\n"
      ],
      "execution_count": 109,
      "outputs": [
        {
          "output_type": "stream",
          "name": "stdout",
          "text": [
            "binarySearch([1, 4, 38, 39, 40, 61, 69, 71, 81, 87],71)=True\n",
            "\n",
            "binarySearch([1, 4, 38, 39, 40, 61, 69, 71, 81, 87],50)=False\n",
            "\n"
          ]
        }
      ]
    },
    {
      "cell_type": "code",
      "metadata": {
        "id": "vWmlByOMHYg4",
        "colab": {
          "base_uri": "https://localhost:8080/"
        },
        "outputId": "c1f40765-cbb3-46f4-eba0-fbdb7f2df9bf"
      },
      "source": [
        "#we randomly create a list \n",
        "data=[]\n",
        "for i in range(10):\n",
        "    data.append(random.randint(0,100))\n",
        "#we sort it\n",
        "data.sort()\n",
        "\n",
        "\n",
        "for i in range(5):\n",
        "    x=random.randint(0,100)\n",
        "    print(\"binarySearch({},{})={}\\n\".format(data,x,binarySearch(data,x)))\n"
      ],
      "execution_count": 110,
      "outputs": [
        {
          "output_type": "stream",
          "name": "stdout",
          "text": [
            "binarySearch([0, 4, 32, 39, 42, 42, 79, 84, 90, 99],7)=False\n",
            "\n",
            "binarySearch([0, 4, 32, 39, 42, 42, 79, 84, 90, 99],77)=False\n",
            "\n",
            "binarySearch([0, 4, 32, 39, 42, 42, 79, 84, 90, 99],79)=True\n",
            "\n",
            "binarySearch([0, 4, 32, 39, 42, 42, 79, 84, 90, 99],77)=False\n",
            "\n",
            "binarySearch([0, 4, 32, 39, 42, 42, 79, 84, 90, 99],58)=False\n",
            "\n"
          ]
        }
      ]
    },
    {
      "cell_type": "markdown",
      "metadata": {
        "id": "6Tp3aivi0kBc"
      },
      "source": [
        "Implementa una función que reciba un **array  ordenado de enteros** A y un valor x, y **devuelva el índice de x en el array A**. Si x no existe, la función devuelve -1. No está permitido aplicar slicing (es decir, expresiones del tipo A[0:m] o A[m:]) ni crear sublistas auxiliares."
      ]
    },
    {
      "cell_type": "code",
      "metadata": {
        "id": "DW56ofpaeWwe"
      },
      "source": [
        "def binarySearch(a: list, x: int) -> int:\n",
        "    #base case\n",
        "    if a is None or len(a)==0:\n",
        "        return -1\n",
        "    return _binarySearch(a, x, 0, len(a)-1)\n",
        "\n",
        "def _binarySearch(a: list, x: int, start: int, end: int) -> int:\n",
        "    \"\"\"returns the index of x in a. \"\"\"\n",
        "    \n",
        "    #recursive case\n",
        "\n",
        "    m = (start+end)//2\n",
        "    if x==a[m]:\n",
        "        return m\n",
        "\n",
        "    if x<a[m]:\n",
        "        return _binarySearch(a,x,start,m-1)\n",
        "    if x>a[m]:\n",
        "        return _binarySearch(a,x,m+1,end)\n",
        "\n"
      ],
      "execution_count": 117,
      "outputs": []
    },
    {
      "cell_type": "code",
      "metadata": {
        "id": "qo0P2pJTe0UF",
        "colab": {
          "base_uri": "https://localhost:8080/"
        },
        "outputId": "0f40f56d-fcd4-400e-d829-7ebc419762a5"
      },
      "source": [
        "data=[1,2,3,4,5,6,7,8,9]\n",
        "x=4 #index=3\n",
        "print(binarySearch(data,x))\n",
        "for x in data:\n",
        "    print(binarySearch(data, x), data.index(x))\n"
      ],
      "execution_count": 121,
      "outputs": [
        {
          "output_type": "stream",
          "name": "stdout",
          "text": [
            "3\n",
            "0 0\n",
            "1 1\n",
            "2 2\n",
            "3 3\n",
            "4 4\n",
            "5 5\n",
            "6 6\n",
            "7 7\n",
            "8 8\n"
          ]
        }
      ]
    },
    {
      "cell_type": "markdown",
      "metadata": {
        "id": "puGMGBWFNbSF"
      },
      "source": [
        "## Suma de los elementos de un array\n",
        "\n",
        "Implementa una función que reciba un array de enteros y devuelva su suma (aplicando divide y vencerás).\n",
        "\n"
      ]
    },
    {
      "cell_type": "code",
      "metadata": {
        "id": "Cvozia2LdEw4"
      },
      "source": [
        "def sumaArray(a: list) -> int:\n",
        "\n",
        "    if a is None or len(a)==0:\n",
        "        return 0\n",
        "        \n",
        "    #base case\n",
        "    if len(a)==1:\n",
        "        return a[0]\n",
        "\n",
        "    #recursive case\n",
        "\n",
        "    #dividir\n",
        "    m=len(a)//2\n",
        "    part1=a[0:m]\n",
        "    part2=a[m:]\n",
        "\n",
        "    #vencer\n",
        "    sum1=sumaArray(part1)\n",
        "    sum2=sumaArray(part2)\n",
        "    \n",
        "    #combinar\n",
        "    return sum1+sum2\n"
      ],
      "execution_count": 122,
      "outputs": []
    },
    {
      "cell_type": "code",
      "metadata": {
        "id": "CVC1Yf2hdjMe",
        "colab": {
          "base_uri": "https://localhost:8080/"
        },
        "outputId": "bef688da-407e-49a5-a990-0bddb15ab814"
      },
      "source": [
        "data=[]\n",
        "for i in range(10):\n",
        "    data.append(random.randint(0,100))\n",
        "\n",
        "print(\"sumaArray({})={}\".format(data, sumaArray(data)))\n",
        "assert sum(data) == sumaArray(data)"
      ],
      "execution_count": 124,
      "outputs": [
        {
          "output_type": "stream",
          "name": "stdout",
          "text": [
            "sumaArray([22, 87, 17, 77, 93, 80, 62, 69, 16, 26])=549\n"
          ]
        }
      ]
    },
    {
      "cell_type": "markdown",
      "metadata": {
        "id": "02HMyf4K0V11"
      },
      "source": [
        "Implementa una función basada en divide y vencerás que reciba una lista de strings y **devuelva una lista con los strings que tengan longitud menor o igual que 2**. \n"
      ]
    },
    {
      "cell_type": "code",
      "metadata": {
        "id": "W_D_tllLEc5I",
        "colab": {
          "base_uri": "https://localhost:8080/"
        },
        "outputId": "b33b9baa-ec35-4140-ef99-89f87b4ed365"
      },
      "source": [
        "def getWordsLength2(words: list) -> list:\n",
        "    if words is None or len(words)==0:\n",
        "        return []\n",
        "\n",
        "    if len(words)==1:\n",
        "        w=words[0]\n",
        "        if len(w)<=2:\n",
        "            return [w] \n",
        "        else:\n",
        "            return []\n",
        "\n",
        "    m=len(words)//2\n",
        "    part1=words[:m]\n",
        "    part2=words[m:]\n",
        "\n",
        "    result1=getWordsLength2(part1)\n",
        "    result2=getWordsLength2(part2)\n",
        "    \n",
        "    return result1+result2\n",
        "\n",
        "words=[\"Ha\", \"llegado\", \"el\", \"afilador\", \"a\", \"su\", \"domicilio\", \"a\", \"la\", \"puerta\", \"de\", \"su\", \"casa\", \"se\", \"afilan\", \"cuchillos\", \"tijeras\"]\n",
        "print(\"getWordsLength2({})  =\\n    {}\".format(words,getWordsLength2(words)))"
      ],
      "execution_count": 126,
      "outputs": [
        {
          "output_type": "stream",
          "name": "stdout",
          "text": [
            "getWordsLength2(['Ha', 'llegado', 'el', 'afilador', 'a', 'su', 'domicilio', 'a', 'la', 'puerta', 'de', 'su', 'casa', 'se', 'afilan', 'cuchillos', 'tijeras'])  =\n",
            "    ['Ha', 'el', 'a', 'su', 'a', 'la', 'de', 'su', 'se']\n"
          ]
        }
      ]
    },
    {
      "cell_type": "markdown",
      "metadata": {
        "id": "pkArxcwu0kyC"
      },
      "source": [
        "Implementa una función basada en divide y vencerás que reciba una lista de strings y que devuelva la **palabra con mayor longitud**. "
      ]
    },
    {
      "cell_type": "code",
      "metadata": {
        "id": "3H0zGHGz0nOE",
        "colab": {
          "base_uri": "https://localhost:8080/"
        },
        "outputId": "9fbe6b35-720f-49d0-e49c-7cb45036f55a"
      },
      "source": [
        "def longestWord(words: list) -> str:\n",
        "    if words is None or len(words)==0:\n",
        "        return None\n",
        "\n",
        "    if len(words)==1:\n",
        "        return words[0]\n",
        "\n",
        "    m=len(words)//2\n",
        "    part1=words[:m]\n",
        "    part2=words[m:]\n",
        "    \n",
        "    word1=longestWord(part1)\n",
        "    word2=longestWord(part2)\n",
        "\n",
        "    if word1==None and word2==None:\n",
        "        return None\n",
        "    elif word1==None:\n",
        "        return word2\n",
        "    elif word2==None:\n",
        "        return word1\n",
        "    else:\n",
        "        if len(word1)>=len(word2):\n",
        "            return word1\n",
        "        else:\n",
        "            return word2\n",
        "\n",
        "A=['ata','mata','atare','vitamina','oz']\n",
        "print(\"longestWord({})={}\".format(A,longestWord(A)))"
      ],
      "execution_count": 127,
      "outputs": [
        {
          "output_type": "stream",
          "name": "stdout",
          "text": [
            "longestWord(['ata', 'mata', 'atare', 'vitamina', 'oz'])=vitamina\n"
          ]
        }
      ]
    }
  ]
}
