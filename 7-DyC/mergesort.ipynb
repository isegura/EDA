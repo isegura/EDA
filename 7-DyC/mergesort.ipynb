{
  "nbformat": 4,
  "nbformat_minor": 0,
  "metadata": {
    "colab": {
      "name": "mergesort",
      "provenance": [],
      "collapsed_sections": [],
      "authorship_tag": "ABX9TyPApSs8aJP3SDrDjRJvkVk4",
      "include_colab_link": true
    },
    "kernelspec": {
      "name": "python3",
      "display_name": "Python 3"
    },
    "language_info": {
      "name": "python"
    }
  },
  "cells": [
    {
      "cell_type": "markdown",
      "metadata": {
        "id": "view-in-github",
        "colab_type": "text"
      },
      "source": [
        "<a href=\"https://colab.research.google.com/github/isegura/EDA/blob/master/mergesort.ipynb\" target=\"_parent\"><img src=\"https://colab.research.google.com/assets/colab-badge.svg\" alt=\"Open In Colab\"/></a>"
      ]
    },
    {
      "cell_type": "markdown",
      "source": [
        "# Mergesort \n",
        "\n",
        "En este notebook, presentamos distintas implementaciones del algoritmo mergesort (basado en divide y vencerás). \n",
        "\n",
        "## Versión que recibe una lista y devuelve una nueva lista ordenada (de menor a mayor) con los elementos de la lista de entrada\n",
        "\n",
        "Esta primera versión recibe una lista (de Python) y devuelve la lista ordenada. La lista de entrada no es modificada."
      ],
      "metadata": {
        "id": "NgyHljk_MkIC"
      }
    },
    {
      "cell_type": "code",
      "execution_count": null,
      "metadata": {
        "id": "vqZIrFalMi_c"
      },
      "outputs": [],
      "source": [
        "def mergesort(a: list) -> list:\n",
        "    \"\"\"devuelve una nueva lista que resulta de ordenar la lista a\"\"\"\n",
        "    if a is None or len(a) <= 1:\n",
        "        # la lista ya está ordenada\n",
        "        return a\n",
        "\n",
        "    middle = len(a) // 2\n",
        "    part1 = a[0: middle]\n",
        "    part2 = a[middle: ]\n",
        "    part1 = mergesort(part1)\n",
        "    part2 = mergesort(part2)\n",
        "    return merge(part1, part2)\n",
        "    \n",
        "def merge(list1: list, list2: list) -> list: \n",
        "    \"\"\"recibe dos listas ordenadas y devuelve una nueva lista\n",
        "    que es la mezcla ordenada de las dos listas de entrada\"\"\"\n",
        "\n",
        "    result = []\n",
        "    i, j = 0, 0\n",
        "    # mientras que queden elementos en ambas listas\n",
        "    while i < len(list1) and j < len(list2):\n",
        "        # copiamos el elemento más pequeño a la nueva lista\n",
        "        # avanzamos el índice en la sublista correspondiente\n",
        "        if list1[i] <= list2[j]:\n",
        "            result.append(list1[i])\n",
        "            i += 1\n",
        "        else:\n",
        "            result.append(list2[j])\n",
        "            j += 1\n",
        "    # llegados a este punto, únicamente quedaran elementos\n",
        "    # en una de las dos listas.\n",
        "    # copiamos el resto de list1 (si quedaran elementos)\n",
        "    while i < len(list1):\n",
        "        result.append(list1[i])\n",
        "        i += 1\n",
        "    # copiamos el resto de list2 (si quedaran elementos)\n",
        "    while j < len(list2):\n",
        "        result.append(list2[j])\n",
        "        j += 1   \n",
        "    # devolvemos la lista \n",
        "    return result\n",
        "\n"
      ]
    },
    {
      "cell_type": "markdown",
      "source": [
        "Probamos con distintas listas creados de forma aleatoria. Debes ejecutarlo varias veces para probarlo con distintos tamaños y distintos valores:"
      ],
      "metadata": {
        "id": "0VStehvsE3WE"
      }
    },
    {
      "cell_type": "code",
      "source": [
        "import random\n",
        "a = []\n",
        "n = random.randint(1, 10)\n",
        "for _ in range(n):\n",
        "    x = random.randint(-5,10)\n",
        "    a.append(x)\n",
        "\n",
        "print(\"input: \", a, \", sorted: \", mergesort(a))\n",
        "\n",
        "# Python’s assert statement allows you to include checks (known as assertions)\n",
        "# to test if certain assumptions remain true. If any of your assertions turn false, \n",
        "# then you have a bug in your code.\n",
        "assert mergesort(a) == sorted(a)\n"
      ],
      "metadata": {
        "colab": {
          "base_uri": "https://localhost:8080/"
        },
        "id": "204SmZm1N4Ll",
        "outputId": "fab00eb0-a447-42f1-c3c8-61a263ea1514"
      },
      "execution_count": null,
      "outputs": [
        {
          "output_type": "stream",
          "name": "stdout",
          "text": [
            "input:  [2, -4, -4, 6, -5, -3, -4, 6, 0, 1] , sorted:  [-5, -4, -4, -4, -3, 0, 1, 2, 6, 6]\n"
          ]
        }
      ]
    },
    {
      "cell_type": "markdown",
      "source": [
        "## Función que ordena la lista. \n",
        "En la siguiente implementación, la función mergesort recibe una lista y la ordena de menor a mayor. Esta versión no devuelve una nueva lista, sino que modifica la lista que recibe como parámetro de entrada."
      ],
      "metadata": {
        "id": "URko9_ihFAb5"
      }
    },
    {
      "cell_type": "code",
      "source": [
        "def mergesort(a: list) -> None:\n",
        "    \"\"\"ordena la lista a\"\"\"\n",
        "    if a is None or len(a) <= 1:\n",
        "        # la lista ya está ordenada\n",
        "        return \n",
        "\n",
        "    middle = len(a) // 2\n",
        "    part1 = a[0: middle]\n",
        "    part2 = a[middle: ]\n",
        "    mergesort(part1)\n",
        "    mergesort(part2)\n",
        "    merge(part1, part2, a)\n",
        "    \n",
        "def merge(list1: list, list2: list, result: list) -> None: \n",
        "    \"\"\"la función recibe dos listas ordenadas, list1 y list2, y mezcla ambas\n",
        "    listas en una lista ordenada que se almacena en la lista result\"\"\"\n",
        "    i, j, k = 0, 0, 0\n",
        "    while i < len(list1) and j < len(list2):\n",
        "        if list1[i] <= list2[j]:\n",
        "            result[k] = list1[i]\n",
        "            i += 1\n",
        "        else:\n",
        "            result[k] = list2[j]\n",
        "            j += 1\n",
        "        k += 1\n",
        "\n",
        "    while i < len(list1):\n",
        "        result[k] = list1[i]\n",
        "        i += 1\n",
        "        k += 1\n",
        "\n",
        "    while j < len(list2):\n",
        "        result[k] = list2[j]\n",
        "        j += 1    \n",
        "        k += 1\n",
        "    "
      ],
      "metadata": {
        "id": "LnYHC4w3ELSH"
      },
      "execution_count": null,
      "outputs": []
    },
    {
      "cell_type": "markdown",
      "source": [
        "Probamos con distintas listas creados de forma aleatoria. Debes ejecutarlo varias veces para probarlo con distintos tamaños y distintos valores:"
      ],
      "metadata": {
        "id": "UrUaYlA4WKUL"
      }
    },
    {
      "cell_type": "code",
      "source": [
        "import random\n",
        "import copy\n",
        "a = []\n",
        "n = random.randint(1, 10)\n",
        "for _ in range(n):\n",
        "    x = random.randint(-5,10)\n",
        "    a.append(x)\n",
        "# creamos una copia por valor de a (no se almacena en la misma dirección)\n",
        "aux = copy.deepcopy(a)\n",
        "\n",
        "print(\"before: \", a, end = ' ')\n",
        "mergesort(a)\n",
        "print(\", after: \", a)\n",
        "assert a == sorted(aux)\n"
      ],
      "metadata": {
        "id": "iTXwM1C5PZhf",
        "colab": {
          "base_uri": "https://localhost:8080/"
        },
        "outputId": "4b009f87-cc64-4754-acf7-846c219da69f"
      },
      "execution_count": null,
      "outputs": [
        {
          "output_type": "stream",
          "name": "stdout",
          "text": [
            "before:  [4, 9, -4] , after:  [-4, 4, 9]\n"
          ]
        }
      ]
    },
    {
      "cell_type": "markdown",
      "source": [
        "## Versión con menos complejidad espacial\n",
        "\n",
        "Las dos implementaciones anteriores son correctas y robustas. En ambas implementaciones, al dividir la lista, se crean dos sublistas nuevas. Es posible proponer una solución con una complejidad espacial menor. \n",
        "\n",
        "A continuación, vemos una implementación que utiliza indices para especificar las particiones a ordenar en cada llamada recursiva. "
      ],
      "metadata": {
        "id": "Us_MdMe_Fmrv"
      }
    },
    {
      "cell_type": "code",
      "source": [
        "def mergesort(a: list) -> None:\n",
        "    \"\"\" recibe una lista y la ordena de menor a mayor\"\"\"\n",
        "    if a is None or len(a) <= 1:\n",
        "        return\n",
        "    _mergesort(a, 0, len(a)-1)\n",
        "\n",
        "def _mergesort(a: list, start: int, end: int) -> None:\n",
        "    \"\"\" recibe una lista y ordena los elementos entre los índices start y end,\n",
        "    ambos incluidos \"\"\"\n",
        "    # Caso base: si start >= end, significa que la partición tiene 0 o 1 elementos\n",
        "    # No es necesario hacer nada porque la partición entre [start, end] ya están ordenados\n",
        "    # Caso general si start < end\n",
        "    if start < end:\n",
        "        # calculamos la posición central en [start, end]\n",
        "        m = (start + end) // 2\n",
        "        # ordenamos la partición entre los índices [start, m]\n",
        "        _mergesort(a, start, m)\n",
        "        # ordenamos la partición entre los índices [m+1, end]\n",
        "        _mergesort(a, m+1, end)\n",
        "        # las particiones entre [start, m] y [m+1, end] ya están ordenadas\n",
        "        # usamos merge para mezclar ambas particiones de forma ordenada\n",
        "        merge(a, start, end, m)\n",
        "        # después de esto, la partición [start, end] ya estará ordenada \n",
        "\n",
        "\n",
        "\n",
        "def merge(a: list, start: int, end: int, m: int) -> None:\n",
        "    \"\"\"los elementos de [start, m] y de [m+1, end] están ordenados.\n",
        "    Hay que mezclar ambas particiones\"\"\"\n",
        "    i, j = start, m+1\n",
        "    aux_list = []\n",
        "    while i <= m and j<= end:\n",
        "        if a[i] <= a[j]:\n",
        "            aux_list.append(a[i])\n",
        "            i += 1\n",
        "        else:\n",
        "            aux_list.append(a[j])\n",
        "            j += 1\n",
        "        \n",
        "    while i<=m:\n",
        "        aux_list.append(a[i])\n",
        "        i += 1\n",
        "        \n",
        "    while j<=end:\n",
        "        aux_list.append(a[j])\n",
        "        j += 1\n",
        "\n",
        "    # move from aux_list to a in the range [start, end]\n",
        "    for k in range(start, end+1):\n",
        "        a[k] = aux_list[k - start]\n",
        "\n",
        "\n"
      ],
      "metadata": {
        "id": "Y2BmlRfHFlpf"
      },
      "execution_count": null,
      "outputs": []
    },
    {
      "cell_type": "markdown",
      "source": [
        "Probamos con distintas listas creados de forma aleatoria. Debes ejecutarlo varias veces para probarlo con distintos tamaños y distintos valores:"
      ],
      "metadata": {
        "id": "8hoaeoMxVvIP"
      }
    },
    {
      "cell_type": "code",
      "source": [
        "import random\n",
        "import copy\n",
        "a = []\n",
        "n = random.randint(1, 10)\n",
        "for _ in range(n):\n",
        "    x = random.randint(-5,10)\n",
        "    a.append(x)\n",
        "\n",
        "# crea una copia de a, pero almacenada en una diferente posición de memoria.\n",
        "aux = copy.deepcopy(a)\n",
        "\n",
        "print(\"before: \", a, end = ' ')\n",
        "mergesort(a)\n",
        "print(\", after: \", a)\n",
        "\n",
        "assert a == sorted(aux)\n"
      ],
      "metadata": {
        "id": "60MOR8oEHpsk",
        "outputId": "5d0d91d4-0336-495d-ec51-689bccf61425",
        "colab": {
          "base_uri": "https://localhost:8080/"
        }
      },
      "execution_count": null,
      "outputs": [
        {
          "output_type": "stream",
          "name": "stdout",
          "text": [
            "before:  [5, 4, -4, 0, 6, 8, 0, 10, 6] , after:  [-4, 0, 0, 4, 5, 6, 6, 8, 10]\n"
          ]
        }
      ]
    }
  ]
}
